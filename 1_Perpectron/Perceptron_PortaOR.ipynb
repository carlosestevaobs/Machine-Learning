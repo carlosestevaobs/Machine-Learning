{
 "cells": [
  {
   "cell_type": "markdown",
   "metadata": {},
   "source": [
    "# Perceptron Simples"
   ]
  },
  {
   "cell_type": "markdown",
   "metadata": {},
   "source": [
    "Importação do numpy"
   ]
  },
  {
   "cell_type": "code",
   "execution_count": 1,
   "metadata": {},
   "outputs": [],
   "source": [
    "import numpy as np"
   ]
  },
  {
   "cell_type": "markdown",
   "metadata": {},
   "source": [
    "Inicialização das entradas e pesos"
   ]
  },
  {
   "cell_type": "code",
   "execution_count": 2,
   "metadata": {},
   "outputs": [],
   "source": [
    "entradas = np.array([[0,0],[1,0],[0,1],[1,1]])\n",
    "saidas = np.array([0, 1, 1, 1])\n",
    "pesos = np.array([0.0, 0.0])\n",
    "taxaAprend = 0.1"
   ]
  },
  {
   "cell_type": "markdown",
   "metadata": {},
   "source": [
    "Função soma"
   ]
  },
  {
   "cell_type": "code",
   "execution_count": 3,
   "metadata": {},
   "outputs": [],
   "source": [
    "def soma (registro):\n",
    "    s = registro.dot(pesos)\n",
    "    return StepFunction(s)"
   ]
  },
  {
   "cell_type": "markdown",
   "metadata": {},
   "source": [
    "Função de Ativação"
   ]
  },
  {
   "cell_type": "markdown",
   "metadata": {},
   "source": [
    "Step Function"
   ]
  },
  {
   "cell_type": "code",
   "execution_count": 4,
   "metadata": {},
   "outputs": [],
   "source": [
    "def StepFunction(soma):\n",
    "    if (soma >= 1):\n",
    "        return 1\n",
    "    else:\n",
    "        return 0"
   ]
  },
  {
   "cell_type": "code",
   "execution_count": 5,
   "metadata": {},
   "outputs": [],
   "source": [
    "def treinamento():\n",
    "    erroTotal = 1\n",
    "    while (erroTotal != 0):\n",
    "        erroTotal = 0\n",
    "        for i in range(len(saidas)):\n",
    "            saidaCalculada = soma(np.asarray(entradas[i]))\n",
    "            erro = abs(saidas[i] - saidaCalculada)\n",
    "            erroTotal += erro\n",
    "            for j in range(len(pesos)):\n",
    "                pesos[j] = pesos[j] + (taxaAprend * entradas[i][j] * erro)\n",
    "                print(\"Peso atualizado \" + str(pesos[j]))\n",
    "        print(\"Total de erros: \" + str(erroTotal))\n",
    "                                  "
   ]
  },
  {
   "cell_type": "code",
   "execution_count": 6,
   "metadata": {
    "scrolled": true
   },
   "outputs": [
    {
     "name": "stdout",
     "output_type": "stream",
     "text": [
      "Peso atualizado 0.0\n",
      "Peso atualizado 0.0\n",
      "Peso atualizado 0.1\n",
      "Peso atualizado 0.0\n",
      "Peso atualizado 0.1\n",
      "Peso atualizado 0.1\n",
      "Peso atualizado 0.2\n",
      "Peso atualizado 0.2\n",
      "Total de erros: 3\n",
      "Peso atualizado 0.2\n",
      "Peso atualizado 0.2\n",
      "Peso atualizado 0.30000000000000004\n",
      "Peso atualizado 0.2\n",
      "Peso atualizado 0.30000000000000004\n",
      "Peso atualizado 0.30000000000000004\n",
      "Peso atualizado 0.4\n",
      "Peso atualizado 0.4\n",
      "Total de erros: 3\n",
      "Peso atualizado 0.4\n",
      "Peso atualizado 0.4\n",
      "Peso atualizado 0.5\n",
      "Peso atualizado 0.4\n",
      "Peso atualizado 0.5\n",
      "Peso atualizado 0.5\n",
      "Peso atualizado 0.5\n",
      "Peso atualizado 0.5\n",
      "Total de erros: 2\n",
      "Peso atualizado 0.5\n",
      "Peso atualizado 0.5\n",
      "Peso atualizado 0.6\n",
      "Peso atualizado 0.5\n",
      "Peso atualizado 0.6\n",
      "Peso atualizado 0.6\n",
      "Peso atualizado 0.6\n",
      "Peso atualizado 0.6\n",
      "Total de erros: 2\n",
      "Peso atualizado 0.6\n",
      "Peso atualizado 0.6\n",
      "Peso atualizado 0.7\n",
      "Peso atualizado 0.6\n",
      "Peso atualizado 0.7\n",
      "Peso atualizado 0.7\n",
      "Peso atualizado 0.7\n",
      "Peso atualizado 0.7\n",
      "Total de erros: 2\n",
      "Peso atualizado 0.7\n",
      "Peso atualizado 0.7\n",
      "Peso atualizado 0.7999999999999999\n",
      "Peso atualizado 0.7\n",
      "Peso atualizado 0.7999999999999999\n",
      "Peso atualizado 0.7999999999999999\n",
      "Peso atualizado 0.7999999999999999\n",
      "Peso atualizado 0.7999999999999999\n",
      "Total de erros: 2\n",
      "Peso atualizado 0.7999999999999999\n",
      "Peso atualizado 0.7999999999999999\n",
      "Peso atualizado 0.8999999999999999\n",
      "Peso atualizado 0.7999999999999999\n",
      "Peso atualizado 0.8999999999999999\n",
      "Peso atualizado 0.8999999999999999\n",
      "Peso atualizado 0.8999999999999999\n",
      "Peso atualizado 0.8999999999999999\n",
      "Total de erros: 2\n",
      "Peso atualizado 0.8999999999999999\n",
      "Peso atualizado 0.8999999999999999\n",
      "Peso atualizado 0.9999999999999999\n",
      "Peso atualizado 0.8999999999999999\n",
      "Peso atualizado 0.9999999999999999\n",
      "Peso atualizado 0.9999999999999999\n",
      "Peso atualizado 0.9999999999999999\n",
      "Peso atualizado 0.9999999999999999\n",
      "Total de erros: 2\n",
      "Peso atualizado 0.9999999999999999\n",
      "Peso atualizado 0.9999999999999999\n",
      "Peso atualizado 1.0999999999999999\n",
      "Peso atualizado 0.9999999999999999\n",
      "Peso atualizado 1.0999999999999999\n",
      "Peso atualizado 1.0999999999999999\n",
      "Peso atualizado 1.0999999999999999\n",
      "Peso atualizado 1.0999999999999999\n",
      "Total de erros: 2\n",
      "Peso atualizado 1.0999999999999999\n",
      "Peso atualizado 1.0999999999999999\n",
      "Peso atualizado 1.0999999999999999\n",
      "Peso atualizado 1.0999999999999999\n",
      "Peso atualizado 1.0999999999999999\n",
      "Peso atualizado 1.0999999999999999\n",
      "Peso atualizado 1.0999999999999999\n",
      "Peso atualizado 1.0999999999999999\n",
      "Total de erros: 0\n"
     ]
    }
   ],
   "source": [
    "treinamento()"
   ]
  },
  {
   "cell_type": "code",
   "execution_count": null,
   "metadata": {},
   "outputs": [],
   "source": []
  }
 ],
 "metadata": {
  "kernelspec": {
   "display_name": "Python 3",
   "language": "python",
   "name": "python3"
  },
  "language_info": {
   "codemirror_mode": {
    "name": "ipython",
    "version": 3
   },
   "file_extension": ".py",
   "mimetype": "text/x-python",
   "name": "python",
   "nbconvert_exporter": "python",
   "pygments_lexer": "ipython3",
   "version": "3.6.7"
  }
 },
 "nbformat": 4,
 "nbformat_minor": 2
}
