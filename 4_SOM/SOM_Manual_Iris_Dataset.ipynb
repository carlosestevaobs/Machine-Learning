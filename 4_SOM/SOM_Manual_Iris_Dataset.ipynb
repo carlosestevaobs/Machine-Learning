{
 "cells": [
  {
   "cell_type": "markdown",
   "metadata": {},
   "source": [
    "# SOM (Self-Organizing Map) - Manual - Iris DataSet"
   ]
  },
  {
   "cell_type": "markdown",
   "metadata": {},
   "source": [
    "### Aprendizagem não supervisionada \n",
    "### Clusterização"
   ]
  },
  {
   "cell_type": "markdown",
   "metadata": {},
   "source": [
    "## Importação das bibliotecas necessárias"
   ]
  },
  {
   "cell_type": "code",
   "execution_count": 1,
   "metadata": {},
   "outputs": [],
   "source": [
    "import numpy as np\n",
    "import pandas as pd\n",
    "import math\n",
    "import matplotlib.pyplot as plt\n",
    "from sklearn.preprocessing import LabelEncoder"
   ]
  },
  {
   "cell_type": "code",
   "execution_count": 2,
   "metadata": {},
   "outputs": [
    {
     "data": {
      "text/html": [
       "<div>\n",
       "<style scoped>\n",
       "    .dataframe tbody tr th:only-of-type {\n",
       "        vertical-align: middle;\n",
       "    }\n",
       "\n",
       "    .dataframe tbody tr th {\n",
       "        vertical-align: top;\n",
       "    }\n",
       "\n",
       "    .dataframe thead th {\n",
       "        text-align: right;\n",
       "    }\n",
       "</style>\n",
       "<table border=\"1\" class=\"dataframe\">\n",
       "  <thead>\n",
       "    <tr style=\"text-align: right;\">\n",
       "      <th></th>\n",
       "      <th>sepal length</th>\n",
       "      <th>sepal width</th>\n",
       "      <th>petal length</th>\n",
       "      <th>petal width</th>\n",
       "      <th>class</th>\n",
       "    </tr>\n",
       "  </thead>\n",
       "  <tbody>\n",
       "    <tr>\n",
       "      <th>0</th>\n",
       "      <td>5.1</td>\n",
       "      <td>3.5</td>\n",
       "      <td>1.4</td>\n",
       "      <td>0.2</td>\n",
       "      <td>Iris-setosa</td>\n",
       "    </tr>\n",
       "    <tr>\n",
       "      <th>1</th>\n",
       "      <td>4.9</td>\n",
       "      <td>3.0</td>\n",
       "      <td>1.4</td>\n",
       "      <td>0.2</td>\n",
       "      <td>Iris-setosa</td>\n",
       "    </tr>\n",
       "    <tr>\n",
       "      <th>2</th>\n",
       "      <td>4.7</td>\n",
       "      <td>3.2</td>\n",
       "      <td>1.3</td>\n",
       "      <td>0.2</td>\n",
       "      <td>Iris-setosa</td>\n",
       "    </tr>\n",
       "    <tr>\n",
       "      <th>3</th>\n",
       "      <td>4.6</td>\n",
       "      <td>3.1</td>\n",
       "      <td>1.5</td>\n",
       "      <td>0.2</td>\n",
       "      <td>Iris-setosa</td>\n",
       "    </tr>\n",
       "    <tr>\n",
       "      <th>4</th>\n",
       "      <td>5.0</td>\n",
       "      <td>3.6</td>\n",
       "      <td>1.4</td>\n",
       "      <td>0.2</td>\n",
       "      <td>Iris-setosa</td>\n",
       "    </tr>\n",
       "  </tbody>\n",
       "</table>\n",
       "</div>"
      ],
      "text/plain": [
       "   sepal length  sepal width  petal length  petal width        class\n",
       "0           5.1          3.5           1.4          0.2  Iris-setosa\n",
       "1           4.9          3.0           1.4          0.2  Iris-setosa\n",
       "2           4.7          3.2           1.3          0.2  Iris-setosa\n",
       "3           4.6          3.1           1.5          0.2  Iris-setosa\n",
       "4           5.0          3.6           1.4          0.2  Iris-setosa"
      ]
     },
     "execution_count": 2,
     "metadata": {},
     "output_type": "execute_result"
    }
   ],
   "source": [
    "base = pd.read_csv('../bases/iris.csv')\n",
    "entradas = base.iloc[:, 0:len(base.columns) -1].values \n",
    "classes = base.iloc[:,len(base.columns)-1].values\n",
    "NumColunas = len(base.columns) - 1\n",
    "entradas = np.asarray(entradas,dtype=np.float32)\n",
    "base.head(5)"
   ]
  },
  {
   "cell_type": "markdown",
   "metadata": {},
   "source": [
    "## Pré-processamento dos Dados de Entrada"
   ]
  },
  {
   "cell_type": "markdown",
   "metadata": {},
   "source": [
    "### Padronização dos dados"
   ]
  },
  {
   "cell_type": "code",
   "execution_count": 3,
   "metadata": {},
   "outputs": [],
   "source": [
    "def Padronizacao(entradas):\n",
    "    for i in range (len(base.columns)-1):\n",
    "        entradas[:,i] = (entradas[:,i] - np.median(entradas[:,i]))/entradas[:,i].std(axis = 0)\n",
    "    return entradas"
   ]
  },
  {
   "cell_type": "markdown",
   "metadata": {},
   "source": [
    "### Normalização dos dados"
   ]
  },
  {
   "cell_type": "code",
   "execution_count": 4,
   "metadata": {},
   "outputs": [],
   "source": [
    "def Normalizacao(entradas):\n",
    "    for i in range (len(base.columns)-1):\n",
    "        entradas[:,i] = (entradas[:,i] - np.min(entradas[:,i]))/(np.max(entradas[:,i]) - np.min(entradas[:,i]))\n",
    "    return entradas"
   ]
  },
  {
   "cell_type": "markdown",
   "metadata": {},
   "source": [
    "### Transformação das classes para o tipo numérico"
   ]
  },
  {
   "cell_type": "code",
   "execution_count": 5,
   "metadata": {},
   "outputs": [
    {
     "name": "stdout",
     "output_type": "stream",
     "text": [
      "[0 0 0 0 0 0 0 0 0 0 0 0 0 0 0 0 0 0 0 0 0 0 0 0 0 0 0 0 0 0 0 0 0 0 0 0 0\n",
      " 0 0 0 0 0 0 0 0 0 0 0 0 0 1 1 1 1 1 1 1 1 1 1 1 1 1 1 1 1 1 1 1 1 1 1 1 1\n",
      " 1 1 1 1 1 1 1 1 1 1 1 1 1 1 1 1 1 1 1 1 1 1 1 1 1 1 2 2 2 2 2 2 2 2 2 2 2\n",
      " 2 2 2 2 2 2 2 2 2 2 2 2 2 2 2 2 2 2 2 2 2 2 2 2 2 2 2 2 2 2 2 2 2 2 2 2 2\n",
      " 2 2]\n"
     ]
    }
   ],
   "source": [
    "labelEncoder = LabelEncoder()\n",
    "classesN = labelEncoder.fit_transform(classes)\n",
    "print(classesN)"
   ]
  },
  {
   "cell_type": "markdown",
   "metadata": {},
   "source": [
    "### Plotagem dos dados (colunas 1 e 2)"
   ]
  },
  {
   "cell_type": "code",
   "execution_count": 6,
   "metadata": {},
   "outputs": [
    {
     "data": {
      "text/plain": [
       "<matplotlib.collections.PathCollection at 0x1f558df2080>"
      ]
     },
     "execution_count": 6,
     "metadata": {},
     "output_type": "execute_result"
    },
    {
     "data": {
      "image/png": "[encoded data removed]",
      "text/plain": [
       "<Figure size 432x288 with 1 Axes>"
      ]
     },
     "metadata": {
      "needs_background": "light"
     },
     "output_type": "display_data"
    }
   ],
   "source": [
    "x = base.iloc[:,1].values\n",
    "y = base.iloc[:,2].values\n",
    "\n",
    "color= ['red' if l == 1 else 'blue' if l == 2 else 'green' for l in classesN]\n",
    "plt.scatter(x, y, color=color)"
   ]
  },
  {
   "cell_type": "markdown",
   "metadata": {},
   "source": [
    "## Entradas do usuário e demais atributos"
   ]
  },
  {
   "cell_type": "code",
   "execution_count": 7,
   "metadata": {},
   "outputs": [
    {
     "name": "stdout",
     "output_type": "stream",
     "text": [
      "Digite a quantidade de épocas: 100\n",
      "Digite a taxa de aprendizado: 0.5\n",
      "Digite a quantidade de linhas da rede SOM: 5\n",
      "Digite a quantidade de colunas da rede SOM: 5\n",
      "Digite:\n",
      "1: Normalização dos dados \n",
      "2: Padronização dos dados \n",
      "2\n"
     ]
    }
   ],
   "source": [
    "epocas = int(input('\\033[1m' + \"Digite a quantidade de épocas: \"))\n",
    "TaxaAprendIni = float(input('\\033[1m' + \"Digite a taxa de aprendizado: \"))\n",
    "linhas = int(input('\\033[1m' + \"Digite a quantidade de linhas da rede SOM: \"))\n",
    "colunas = int(input('\\033[1m' + \"Digite a quantidade de colunas da rede SOM: \"))\n",
    "\n",
    "print(\"Digite:\")\n",
    "print(\"1: Normalização dos dados \")\n",
    "print(\"2: Padronização dos dados \")\n",
    "PadNorm = int(input(\"\"))\n",
    "if (PadNorm == 1):\n",
    "    entradas = Padronizacao(entradas)\n",
    "else:\n",
    "    entradas = Normalizacao(entradas)\n",
    "\n",
    "dimensoes = NumColunas\n",
    "pesos = np.random.uniform(size = (linhas, colunas, dimensoes))\n",
    "pesosAnt = np.zeros((linhas, colunas, dimensoes))\n",
    "raioIni = max(colunas, linhas) / 2"
   ]
  },
  {
   "cell_type": "code",
   "execution_count": 8,
   "metadata": {},
   "outputs": [],
   "source": [
    "coordenadas = np.zeros([linhas,colunas,2],dtype=np.int32)\n",
    "for i in range(0, linhas):\n",
    "    for j in range(0, colunas):\n",
    "        coordenadas[i][j] = [i,j]"
   ]
  },
  {
   "cell_type": "code",
   "execution_count": 9,
   "metadata": {},
   "outputs": [],
   "source": [
    "raio = raioIni\n",
    "TaxaAprend = TaxaAprendIni\n",
    "max_iterations = len(entradas)+1\n",
    "too_many_iterations = 10 * max_iterations\n",
    "convergencia = [1]\n",
    "timestep = 1\n",
    "e = 0.001 \n",
    "flag = 0\n",
    "epoca = 0"
   ]
  },
  {
   "cell_type": "markdown",
   "metadata": {},
   "source": [
    "### Treinamento"
   ]
  },
  {
   "cell_type": "code",
   "execution_count": 10,
   "metadata": {},
   "outputs": [],
   "source": [
    "while epoca < epocas:\n",
    "    shuffle = np.random.randint(len(entradas), size=len(entradas))\n",
    "    for i in range(len(entradas)):   \n",
    "        # Distância euclidiana\n",
    "        J = np.linalg.norm(pesos - pesosAnt)\n",
    "        # Condição para convergência\n",
    "        if  J <= e: \n",
    "            flag = 1\n",
    "            break            \n",
    "        else:            \n",
    "            entrada = entradas[shuffle[i]]\n",
    "            entrada_ary = np.tile(entrada, (linhas, colunas, 1))\n",
    "            Distancias = np.linalg.norm(entrada_ary - pesos, axis=2)\n",
    "            \n",
    "            # Rede WTA (Winner Take All)            \n",
    "            # Obtem o neurônio vencedor, ou seja, o que tem menor distância\n",
    "            BMU = np.unravel_index(np.argmin(Distancias, axis=None), Distancias.shape)            \n",
    "            pesosAnt = np.copy(pesos)             \n",
    "            for i in range(linhas):\n",
    "                for j in range(colunas):\n",
    "                    distance = np.linalg.norm([i - BMU[0], j - BMU[1]])\n",
    "                    if distance <= raio:\n",
    "                        # Atualização do vetor de pesos\n",
    "                        pesos[i][j] = pesos[i][j] + TaxaAprend*(entrada-pesos[i][j])\n",
    "                        \n",
    "            TaxaAprend = TaxaAprendIni * (1- (epoca/ epocas)) # WTA - Winner Take All\n",
    "            raio = raioIni * math.exp(-epoca/epocas)\n",
    "            timestep+=1\n",
    "            \n",
    "    if J < min(convergencia):\n",
    "        pesos_finais = pesos\n",
    "    convergencia.append(J)\n",
    "    \n",
    "    if flag==1:\n",
    "        break\n",
    "    epoca+=1"
   ]
  },
  {
   "cell_type": "markdown",
   "metadata": {},
   "source": [
    "### Plotagem da taxa de erro x época"
   ]
  },
  {
   "cell_type": "code",
   "execution_count": 11,
   "metadata": {},
   "outputs": [
    {
     "data": {
      "image/png": "[encoded data removed]",
      "text/plain": [
       "<Figure size 432x288 with 1 Axes>"
      ]
     },
     "metadata": {
      "needs_background": "light"
     },
     "output_type": "display_data"
    },
    {
     "name": "stdout",
     "output_type": "stream",
     "text": [
      "Erro final: 0.0008350166133345916\n"
     ]
    }
   ],
   "source": [
    "plt.plot(convergencia)\n",
    "plt.ylabel('erro')\n",
    "plt.xlabel('epoca')\n",
    "plt.grid(True)\n",
    "plt.yscale('log')\n",
    "plt.show()\n",
    "print('Erro final: ' + str(J))"
   ]
  },
  {
   "cell_type": "markdown",
   "metadata": {},
   "source": [
    "### Plotagem da Rede SOM"
   ]
  },
  {
   "cell_type": "code",
   "execution_count": 13,
   "metadata": {},
   "outputs": [
    {
     "data": {
      "text/plain": [
       "<matplotlib.image.AxesImage at 0x1f55a09ccf8>"
      ]
     },
     "execution_count": 13,
     "metadata": {},
     "output_type": "execute_result"
    },
    {
     "data": {
      "image/png": "[encoded data removed]",
      "text/plain": [
       "<Figure size 432x288 with 1 Axes>"
      ]
     },
     "metadata": {
      "needs_background": "light"
     },
     "output_type": "display_data"
    }
   ],
   "source": [
    "BMU = np.zeros([2],dtype=np.int32)\n",
    "result_map = np.zeros([linhas,colunas,3],dtype=np.float32)\n",
    "\n",
    "i=0\n",
    "for entrada in entradas:    \n",
    "    entrada_ary = np.tile(entrada, (linhas, colunas, 1))\n",
    "    Distancias = np.linalg.norm(entrada_ary - pesos_finais, axis=2)\n",
    "\n",
    "    # Obtem o neurônio vencedor, ou seja, o que tem menor distância\n",
    "    BMU = np.unravel_index(np.argmin(Distancias, axis=None), Distancias.shape)\n",
    "    \n",
    "    x = BMU[0]\n",
    "    y = BMU[1]\n",
    "    \n",
    "    if classesN[i] == 0:\n",
    "        if result_map[x][y][0] <= 0.5:\n",
    "            result_map[x][y] += np.asarray([0.5,0,0])\n",
    "    elif classesN[i] == 1:\n",
    "        if result_map[x][y][1] <= 0.5:\n",
    "            result_map[x][y] += np.asarray([0,0.5,0])\n",
    "    elif classesN[i] == 2:\n",
    "        if result_map[x][y][2] <= 0.5:\n",
    "            result_map[x][y] += np.asarray([0,0,0.5])\n",
    "    i+=1\n",
    "result_map = np.flip(result_map,0)\n",
    "plt.title(\"Rede Som\")\n",
    "plt.imshow(result_map, interpolation='nearest')"
   ]
  },
  {
   "cell_type": "markdown",
   "metadata": {},
   "source": [
    "## KNN - em construção"
   ]
  },
  {
   "cell_type": "code",
   "execution_count": null,
   "metadata": {},
   "outputs": [],
   "source": []
  },
  {
   "cell_type": "code",
   "execution_count": null,
   "metadata": {},
   "outputs": [],
   "source": []
  },
  {
   "cell_type": "code",
   "execution_count": null,
   "metadata": {},
   "outputs": [],
   "source": []
  },
  {
   "cell_type": "code",
   "execution_count": null,
   "metadata": {},
   "outputs": [],
   "source": []
  },
  {
   "cell_type": "code",
   "execution_count": null,
   "metadata": {},
   "outputs": [],
   "source": []
  },
  {
   "cell_type": "code",
   "execution_count": null,
   "metadata": {},
   "outputs": [],
   "source": []
  }
 ],
 "metadata": {
  "kernelspec": {
   "display_name": "Python 3",
   "language": "python",
   "name": "python3"
  },
  "language_info": {
   "codemirror_mode": {
    "name": "ipython",
    "version": 3
   },
   "file_extension": ".py",
   "mimetype": "text/x-python",
   "name": "python",
   "nbconvert_exporter": "python",
   "pygments_lexer": "ipython3",
   "version": "3.6.7"
  }
 },
 "nbformat": 4,
 "nbformat_minor": 2
}
