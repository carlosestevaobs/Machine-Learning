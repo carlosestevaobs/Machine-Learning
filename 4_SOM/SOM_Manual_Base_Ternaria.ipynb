{
 "cells": [
  {
   "cell_type": "markdown",
   "metadata": {},
   "source": [
    "# SOM (Self-Organizing Map) - Manual - Base Ternária"
   ]
  },
  {
   "cell_type": "markdown",
   "metadata": {},
   "source": [
    "### Aprendizagem não supervisionada \n",
    "### Clusterização"
   ]
  },
  {
   "cell_type": "markdown",
   "metadata": {},
   "source": [
    "## Importação das bibliotecas necessárias"
   ]
  },
  {
   "cell_type": "code",
   "execution_count": 1,
   "metadata": {},
   "outputs": [],
   "source": [
    "import numpy as np\n",
    "import pandas as pd\n",
    "import math\n",
    "import matplotlib.pyplot as plt\n",
    "from sklearn.preprocessing import LabelEncoder\n",
    "from sklearn.model_selection import train_test_split"
   ]
  },
  {
   "cell_type": "code",
   "execution_count": 2,
   "metadata": {},
   "outputs": [
    {
     "data": {
      "text/html": [
       "<div>\n",
       "<style scoped>\n",
       "    .dataframe tbody tr th:only-of-type {\n",
       "        vertical-align: middle;\n",
       "    }\n",
       "\n",
       "    .dataframe tbody tr th {\n",
       "        vertical-align: top;\n",
       "    }\n",
       "\n",
       "    .dataframe thead th {\n",
       "        text-align: right;\n",
       "    }\n",
       "</style>\n",
       "<table border=\"1\" class=\"dataframe\">\n",
       "  <thead>\n",
       "    <tr style=\"text-align: right;\">\n",
       "      <th></th>\n",
       "      <th>0.00234148759345</th>\n",
       "      <th>2.484356589</th>\n",
       "      <th>396172138.406</th>\n",
       "      <th>13184.3097039</th>\n",
       "      <th>0.533112719953</th>\n",
       "      <th>51724.5129095</th>\n",
       "      <th>2.26348078086</th>\n",
       "      <th>2.77132864597</th>\n",
       "      <th>0.00115404970126</th>\n",
       "      <th>0.591052858553</th>\n",
       "      <th>...</th>\n",
       "      <th>112.209716643</th>\n",
       "      <th>0.00586893339572</th>\n",
       "      <th>52731.8212198</th>\n",
       "      <th>12873885.5732</th>\n",
       "      <th>3244547962.24</th>\n",
       "      <th>1.1757859734</th>\n",
       "      <th>0.00389183850907</th>\n",
       "      <th>13183.210839</th>\n",
       "      <th>5.78451996503e-10</th>\n",
       "      <th>c1_p1</th>\n",
       "    </tr>\n",
       "  </thead>\n",
       "  <tbody>\n",
       "    <tr>\n",
       "      <th>0</th>\n",
       "      <td>0.001761</td>\n",
       "      <td>3.579211</td>\n",
       "      <td>5.476226e+08</td>\n",
       "      <td>15717.390250</td>\n",
       "      <td>0.482913</td>\n",
       "      <td>61734.857846</td>\n",
       "      <td>2.303583</td>\n",
       "      <td>2.885987</td>\n",
       "      <td>0.001010</td>\n",
       "      <td>0.655670</td>\n",
       "      <td>...</td>\n",
       "      <td>122.730859</td>\n",
       "      <td>0.004136</td>\n",
       "      <td>62856.598895</td>\n",
       "      <td>1.666798e+07</td>\n",
       "      <td>4.549369e+09</td>\n",
       "      <td>1.410837</td>\n",
       "      <td>0.009247</td>\n",
       "      <td>15714.213740</td>\n",
       "      <td>8.333754e-10</td>\n",
       "      <td>c1_p1</td>\n",
       "    </tr>\n",
       "    <tr>\n",
       "      <th>1</th>\n",
       "      <td>0.001382</td>\n",
       "      <td>11.140015</td>\n",
       "      <td>4.537162e+08</td>\n",
       "      <td>17196.365985</td>\n",
       "      <td>0.352437</td>\n",
       "      <td>67619.439003</td>\n",
       "      <td>2.244540</td>\n",
       "      <td>3.054107</td>\n",
       "      <td>0.000663</td>\n",
       "      <td>0.859476</td>\n",
       "      <td>...</td>\n",
       "      <td>129.192630</td>\n",
       "      <td>0.003692</td>\n",
       "      <td>68770.276182</td>\n",
       "      <td>1.886087e+07</td>\n",
       "      <td>5.329816e+09</td>\n",
       "      <td>2.401581</td>\n",
       "      <td>0.004161</td>\n",
       "      <td>17190.793344</td>\n",
       "      <td>2.593816e-09</td>\n",
       "      <td>c1_p1</td>\n",
       "    </tr>\n",
       "    <tr>\n",
       "      <th>2</th>\n",
       "      <td>0.001332</td>\n",
       "      <td>3.547210</td>\n",
       "      <td>8.804298e+08</td>\n",
       "      <td>15732.815167</td>\n",
       "      <td>0.486658</td>\n",
       "      <td>61787.815220</td>\n",
       "      <td>2.421049</td>\n",
       "      <td>2.996713</td>\n",
       "      <td>0.001015</td>\n",
       "      <td>0.654426</td>\n",
       "      <td>...</td>\n",
       "      <td>120.601126</td>\n",
       "      <td>0.002868</td>\n",
       "      <td>62946.110184</td>\n",
       "      <td>1.767228e+07</td>\n",
       "      <td>5.295252e+09</td>\n",
       "      <td>1.399464</td>\n",
       "      <td>-0.017187</td>\n",
       "      <td>15736.582924</td>\n",
       "      <td>8.259244e-10</td>\n",
       "      <td>c1_p1</td>\n",
       "    </tr>\n",
       "    <tr>\n",
       "      <th>3</th>\n",
       "      <td>0.001326</td>\n",
       "      <td>6.730192</td>\n",
       "      <td>5.843474e+08</td>\n",
       "      <td>16681.149415</td>\n",
       "      <td>0.405101</td>\n",
       "      <td>65546.559448</td>\n",
       "      <td>2.307848</td>\n",
       "      <td>3.017531</td>\n",
       "      <td>0.000796</td>\n",
       "      <td>0.769949</td>\n",
       "      <td>...</td>\n",
       "      <td>126.472728</td>\n",
       "      <td>0.003249</td>\n",
       "      <td>66704.800634</td>\n",
       "      <td>1.829152e+07</td>\n",
       "      <td>5.200287e+09</td>\n",
       "      <td>1.909767</td>\n",
       "      <td>0.011973</td>\n",
       "      <td>16675.505663</td>\n",
       "      <td>1.567043e-09</td>\n",
       "      <td>c1_p1</td>\n",
       "    </tr>\n",
       "    <tr>\n",
       "      <th>4</th>\n",
       "      <td>0.001190</td>\n",
       "      <td>3.392427</td>\n",
       "      <td>1.253675e+09</td>\n",
       "      <td>17221.057939</td>\n",
       "      <td>0.495633</td>\n",
       "      <td>67671.177905</td>\n",
       "      <td>2.469034</td>\n",
       "      <td>3.033598</td>\n",
       "      <td>0.001035</td>\n",
       "      <td>0.646316</td>\n",
       "      <td>...</td>\n",
       "      <td>125.712138</td>\n",
       "      <td>0.002273</td>\n",
       "      <td>68902.703503</td>\n",
       "      <td>2.031699e+07</td>\n",
       "      <td>6.362667e+09</td>\n",
       "      <td>1.362016</td>\n",
       "      <td>-0.019963</td>\n",
       "      <td>17225.809880</td>\n",
       "      <td>7.898851e-10</td>\n",
       "      <td>c1_p1</td>\n",
       "    </tr>\n",
       "  </tbody>\n",
       "</table>\n",
       "<p>5 rows × 22 columns</p>\n",
       "</div>"
      ],
      "text/plain": [
       "   0.00234148759345  2.484356589  396172138.406  13184.3097039  \\\n",
       "0          0.001761     3.579211   5.476226e+08   15717.390250   \n",
       "1          0.001382    11.140015   4.537162e+08   17196.365985   \n",
       "2          0.001332     3.547210   8.804298e+08   15732.815167   \n",
       "3          0.001326     6.730192   5.843474e+08   16681.149415   \n",
       "4          0.001190     3.392427   1.253675e+09   17221.057939   \n",
       "\n",
       "   0.533112719953  51724.5129095  2.26348078086  2.77132864597  \\\n",
       "0        0.482913   61734.857846       2.303583       2.885987   \n",
       "1        0.352437   67619.439003       2.244540       3.054107   \n",
       "2        0.486658   61787.815220       2.421049       2.996713   \n",
       "3        0.405101   65546.559448       2.307848       3.017531   \n",
       "4        0.495633   67671.177905       2.469034       3.033598   \n",
       "\n",
       "   0.00115404970126  0.591052858553  ...    112.209716643  0.00586893339572  \\\n",
       "0          0.001010        0.655670  ...       122.730859          0.004136   \n",
       "1          0.000663        0.859476  ...       129.192630          0.003692   \n",
       "2          0.001015        0.654426  ...       120.601126          0.002868   \n",
       "3          0.000796        0.769949  ...       126.472728          0.003249   \n",
       "4          0.001035        0.646316  ...       125.712138          0.002273   \n",
       "\n",
       "   52731.8212198  12873885.5732  3244547962.24  1.1757859734  \\\n",
       "0   62856.598895   1.666798e+07   4.549369e+09      1.410837   \n",
       "1   68770.276182   1.886087e+07   5.329816e+09      2.401581   \n",
       "2   62946.110184   1.767228e+07   5.295252e+09      1.399464   \n",
       "3   66704.800634   1.829152e+07   5.200287e+09      1.909767   \n",
       "4   68902.703503   2.031699e+07   6.362667e+09      1.362016   \n",
       "\n",
       "   0.00389183850907  13183.210839  5.78451996503e-10  c1_p1  \n",
       "0          0.009247  15714.213740       8.333754e-10  c1_p1  \n",
       "1          0.004161  17190.793344       2.593816e-09  c1_p1  \n",
       "2         -0.017187  15736.582924       8.259244e-10  c1_p1  \n",
       "3          0.011973  16675.505663       1.567043e-09  c1_p1  \n",
       "4         -0.019963  17225.809880       7.898851e-10  c1_p1  \n",
       "\n",
       "[5 rows x 22 columns]"
      ]
     },
     "execution_count": 2,
     "metadata": {},
     "output_type": "execute_result"
    }
   ],
   "source": [
    "base = pd.read_csv('../../bases/baseTernaria.txt')\n",
    "entradas = base.iloc[:, 0:len(base.columns) -1].values \n",
    "classes = base.iloc[:,len(base.columns)-1].values\n",
    "NumColunas = len(base.columns) - 1\n",
    "entradas = np.asarray(entradas, dtype=np.float32)\n",
    "base.head(5)"
   ]
  },
  {
   "cell_type": "markdown",
   "metadata": {},
   "source": [
    "## Pré-processamento dos Dados de Entrada"
   ]
  },
  {
   "cell_type": "markdown",
   "metadata": {},
   "source": [
    "### Padronização dos dados"
   ]
  },
  {
   "cell_type": "code",
   "execution_count": 3,
   "metadata": {},
   "outputs": [],
   "source": [
    "def Padronizacao(entradas):\n",
    "    for i in range (len(base.columns)-1):\n",
    "        entradas[:,i] = (entradas[:,i] - np.median(entradas[:,i]))/entradas[:,i].std(axis = 0)\n",
    "    return entradas"
   ]
  },
  {
   "cell_type": "markdown",
   "metadata": {},
   "source": [
    "### Normalização dos dados"
   ]
  },
  {
   "cell_type": "code",
   "execution_count": 4,
   "metadata": {},
   "outputs": [],
   "source": [
    "def Normalizacao(entradas):\n",
    "    for i in range (len(base.columns)-1):\n",
    "        entradas[:,i] = (entradas[:,i] - np.min(entradas[:,i]))/(np.max(entradas[:,i]) - np.min(entradas[:,i]))\n",
    "    return entradas"
   ]
  },
  {
   "cell_type": "markdown",
   "metadata": {},
   "source": [
    "### Transformação das classes para o tipo numérico"
   ]
  },
  {
   "cell_type": "code",
   "execution_count": 5,
   "metadata": {},
   "outputs": [
    {
     "name": "stdout",
     "output_type": "stream",
     "text": [
      "[0 0 0 0 0 0 0 0 0 0 0 0 0 0 0 0 0 0 0 0 0 0 0 0 0 0 0 0 0 0 0 0 0 0 0 0 0\n",
      " 0 0 0 0 0 0 0 0 0 0 0 0 0 0 0 0 0 0 0 0 0 0 0 0 0 0 0 0 0 0 0 0 0 0 0 0 0\n",
      " 0 0 0 0 0 0 0 0 0 0 0 0 0 0 0 0 0 0 0 0 0 0 0 0 0 0 0 0 0 0 0 0 0 0 0 0 0\n",
      " 0 0 0 0 0 0 0 0 0 0 0 0 0 0 0 0 0 0 0 0 0 0 0 0 0 0 0 0 0 0 0 0 0 0 0 0 0\n",
      " 0 0 0 0 0 0 0 0 0 0 0 0 0 0 0 0 0 0 0 0 0 0 0 0 0 0 0 0 0 0 0 0 0 0 0 0 0\n",
      " 0 0 0 0 0 0 0 0 0 0 0 0 0 0 1 1 1 1 1 1 1 1 1 1 1 1 1 1 1 1 1 1 1 1 1 1 1\n",
      " 1 1 1 1 1 1 1 1 1 1 1 1 1 1 1 1 1 1 1 1 1 1 1 1 1 1 1 1 1 1 1 1 1 1 1 1 1\n",
      " 1 1 1 1 1 1 1 1 1 1 1 1 1 1 1 1 1 1 1 1 1 1 1 1 1 1 1 1 1 1 1 1 1 1 1 1 1\n",
      " 1 1 1 1 1 1 1 1 1 1 1 1 1 1 1 1 1 1 1 1 1 1 1 1 1 1 1 1 1 1 1 1 1 1 1 1 1\n",
      " 1 1 1 1 1 1 1 1 1 1 1 1 1 1 1 1 1 1 1 1 1 1 1 1 1 1 1 1 1 1 1 1 1 1 1 1 1\n",
      " 1 1 1 1 1 1 1 1 1 1 1 1 1 1 1 1 1 1 1 1 1 1 1 1 1 1 1 1 1 2 2 2 2 2 2 2 2\n",
      " 2 2 2 2 2 2 2 2 2 2 2 2 2 2 2 2 2 2 2 2 2 2 2 2 2 2 2 2 2 2 2 2 2 2 2 2 2\n",
      " 2 2 2 2 2 2 2 2 2 2 2 2 2 2 2 2 2 2 2 2 2 2 2 2 2 2 2 2 2 2 2 2 2 2 2 2 2\n",
      " 2 2 2 2 2 2 2 2 2 2 2 2 2 2 2 2 2 2 2 2 2 2 2 2 2 2 2 2 2 2 2 2 2 2 2 2 2\n",
      " 2 2 2 2 2 2 2 2 2 2 2 2 2 2 2 2 2 2 2 2 2 2 2 2 2 2 2 2 2 2 2 2 2 2 2 2 2\n",
      " 2 2 2 2 2 2 2 2 2 2 2 2 2 2 2 2 2 2 2 2 2 2 2 2 2 2 2 2 2 2 2 2 2 2 2 2 2\n",
      " 2 2 2 2 2 2 2]\n"
     ]
    }
   ],
   "source": [
    "labelEncoder = LabelEncoder()\n",
    "classesN = labelEncoder.fit_transform(classes)\n",
    "print(classesN)"
   ]
  },
  {
   "cell_type": "markdown",
   "metadata": {},
   "source": [
    "### Plotagem dos dados (colunas 1 e 2)"
   ]
  },
  {
   "cell_type": "code",
   "execution_count": 6,
   "metadata": {},
   "outputs": [
    {
     "data": {
      "text/plain": [
       "<matplotlib.collections.PathCollection at 0x1af36f11588>"
      ]
     },
     "execution_count": 6,
     "metadata": {},
     "output_type": "execute_result"
    },
    {
     "data": {
      "image/png": "[encoded data removed]",
      "text/plain": [
       "<Figure size 432x288 with 1 Axes>"
      ]
     },
     "metadata": {
      "needs_background": "light"
     },
     "output_type": "display_data"
    }
   ],
   "source": [
    "x = base.iloc[:,2].values\n",
    "y = base.iloc[:,3].values\n",
    "\n",
    "color= ['lime' if l == 1 else 'teal' if l == 2 else 'green' for l in classesN]\n",
    "plt.scatter(x, y, color=color)"
   ]
  },
  {
   "cell_type": "markdown",
   "metadata": {},
   "source": [
    "## Entradas do usuário e demais atributos"
   ]
  },
  {
   "cell_type": "code",
   "execution_count": 7,
   "metadata": {},
   "outputs": [
    {
     "name": "stdout",
     "output_type": "stream",
     "text": [
      "Digite a quantidade de épocas: 300\n",
      "Digite a taxa de aprendizado: 0.5\n",
      "Digite a quantidade de linhas da rede SOM: 15\n",
      "Digite a quantidade de colunas da rede SOM: 15\n",
      "Digite o tamanho da vizinhança da rede SOM: 7\n",
      "Digite:\n",
      "1: Normalização dos dados \n",
      "2: Padronização dos dados \n",
      "1\n",
      "Digite o valor dos K vizinhos para o KNN: 7\n",
      "Carregamento de pesos: \n",
      "Atenção, caso não existam dados a serem carregados com as configurações inseridas o programa não irá ser executado\n",
      "Deseja carregar pesos salvos? (1 - Sim, 2 - Não)2\n"
     ]
    }
   ],
   "source": [
    "epocas = int(input('\\033[1m' + \"Digite a quantidade de épocas: \"))\n",
    "TaxaAprendIni = float(input('\\033[1m' + \"Digite a taxa de aprendizado: \"))\n",
    "linhas = int(input('\\033[1m' + \"Digite a quantidade de linhas da rede SOM: \"))\n",
    "colunas = int(input('\\033[1m' + \"Digite a quantidade de colunas da rede SOM: \"))\n",
    "TamVizIni = int(input('\\033[1m' + \"Digite o tamanho da vizinhança da rede SOM: \"))\n",
    "tempTamViz = len(entradas)/math.log(TamVizIni)\n",
    "print(\"Digite:\")\n",
    "print(\"1: Normalização dos dados \")\n",
    "print(\"2: Padronização dos dados \")\n",
    "PadNorm = int(input(\"\"))\n",
    "if (PadNorm == 1):\n",
    "    entradas = Normalizacao(entradas)\n",
    "else:    \n",
    "    entradas = Padronizacao(entradas)\n",
    "k =  int(input('\\033[1m' + \"Digite o valor dos K vizinhos para o KNN: \"))\n",
    "\n",
    "    \n",
    "dimensoes = NumColunas\n",
    "pesos = np.random.uniform(size = (linhas, colunas, dimensoes))\n",
    "pesosAnt = np.zeros((linhas, colunas, dimensoes))\n",
    "raioIni = max(colunas, linhas) / 2\n",
    "CalcularVizinhanca = np.zeros((linhas, colunas))\n",
    "\n",
    "\n",
    "\n",
    "print(\"Carregamento de pesos: \")\n",
    "print(\"Atenção, caso não existam dados a serem carregados com as configurações inseridas o programa não irá ser executado\")\n",
    "carregarPesos = int(input(\"Deseja carregar pesos salvos? (1 - Sim, 2 - Não)\"))\n",
    "if (carregarPesos == 1):    \n",
    "    pesos = np.load(str(\"../resultados/SOM/pesosSOM_BaseTernaria/SOM-Ep_\"+str(epocas) + \"L_\"+ str(linhas) + \"C_\"+ str(colunas)+\"TA_\"+ str(TaxaAprendIni)+ \"V_Ini_\"+str(TamVizIni)+ \"PadNorm_\"+ str(PadNorm)+ \".npy\"))\n"
   ]
  },
  {
   "cell_type": "code",
   "execution_count": 8,
   "metadata": {},
   "outputs": [],
   "source": [
    "coordenadas = np.zeros([linhas,colunas,2],dtype=np.int32)\n",
    "for i in range(0, linhas):\n",
    "    for j in range(0, colunas):\n",
    "        coordenadas[i][j] = [i,j]"
   ]
  },
  {
   "cell_type": "code",
   "execution_count": 9,
   "metadata": {},
   "outputs": [],
   "source": [
    "raio = raioIni\n",
    "TaxaAprend = TaxaAprendIni\n",
    "max_iterations = len(entradas)+1\n",
    "too_many_iterations = 10 * max_iterations\n",
    "convergencia = [1]\n",
    "e = 0.001 \n",
    "flag = 0\n",
    "epoca = 0"
   ]
  },
  {
   "cell_type": "markdown",
   "metadata": {},
   "source": [
    "### Treinamento"
   ]
  },
  {
   "cell_type": "code",
   "execution_count": 10,
   "metadata": {},
   "outputs": [],
   "source": [
    "while epoca < epocas:\n",
    "    shuffle = np.random.randint(len(entradas), size=len(entradas))\n",
    "    for i in range(len(entradas)):   \n",
    "        # Distância euclidiana - erro de quantização\n",
    "        J = np.linalg.norm(pesos - pesosAnt)\n",
    "        # Condição para convergência\n",
    "        if  J <= e: \n",
    "            flag = 1\n",
    "            break            \n",
    "        else:            \n",
    "            entrada = entradas[shuffle[i]]\n",
    "            entrada_mod = np.tile(entrada, (linhas, colunas, 1))\n",
    "            Distancias = np.linalg.norm(entrada_mod - pesos, axis=2)\n",
    "                                   \n",
    "            # Obtem o neurônio vencedor, ou seja, o que tem menor distância\n",
    "            BMU = np.unravel_index(np.argmin(Distancias, axis=None), Distancias.shape)            \n",
    "            pesosAnt = np.copy(pesos)             \n",
    "                                    \n",
    "            # Funcao de Vizinhança\n",
    "            # equação 3.18 - notas de aulas - IFCE - ICA\n",
    "            for l in range(linhas):\n",
    "                for m in range(colunas):\n",
    "                    if ((l == BMU[0]) and (m == BMU[1])):\n",
    "                        CalcularVizinhanca[l][m] = 1\n",
    "                    else:\n",
    "                        CalcularVizinhanca[l][m] = math.exp(-(((BMU[0] - l)**2) + ((BMU[1] - m)**2))/tempTamViz**2)\n",
    "            \n",
    "            for i in range(linhas):\n",
    "                for j in range(colunas):\n",
    "                    distance = np.linalg.norm([i - BMU[0], j - BMU[1]])\n",
    "                    if distance <= raio:\n",
    "                        # Atualização do vetor de pesos\n",
    "                        pesos[i][j] = pesos[i][j] + TaxaAprend * CalcularVizinhanca[i][j] * (entrada-pesos[i][j])\n",
    "                        \n",
    "            TaxaAprend = TaxaAprendIni * (1- (epoca/ epocas)) \n",
    "            \n",
    "            # decaimento do spread\n",
    "            raio = raioIni * math.exp(-epoca/epocas)            \n",
    "            \n",
    "    if J < min(convergencia):\n",
    "        pesos_finais = pesos\n",
    "    convergencia.append(J)\n",
    "    \n",
    "    if flag==1:\n",
    "        break\n",
    "    epoca+=1"
   ]
  },
  {
   "cell_type": "markdown",
   "metadata": {},
   "source": [
    "### Salvar os pesos da rede SOM"
   ]
  },
  {
   "cell_type": "code",
   "execution_count": 11,
   "metadata": {},
   "outputs": [],
   "source": [
    "np.save(\"../resultados/SOM/pesosSOM_BaseTernaria/SOM-Ep_\"+str(epocas) + \"L_\"+ str(linhas) + \"C_\"+ str(colunas)+\"TA_\"+ str(TaxaAprendIni)+ \"V_Ini_\"+str(TamVizIni)+ \"PadNorm_\"+ str(PadNorm) , pesos_finais)"
   ]
  },
  {
   "cell_type": "markdown",
   "metadata": {},
   "source": [
    "### Plotagem da taxa de erro x época"
   ]
  },
  {
   "cell_type": "code",
   "execution_count": 12,
   "metadata": {},
   "outputs": [
    {
     "data": {
      "image/png": "[encoded data removed]",
      "text/plain": [
       "<Figure size 432x288 with 1 Axes>"
      ]
     },
     "metadata": {
      "needs_background": "light"
     },
     "output_type": "display_data"
    },
    {
     "name": "stdout",
     "output_type": "stream",
     "text": [
      "Erro de quantização: 0.0009658511143029206\n"
     ]
    }
   ],
   "source": [
    "ErroQuantizacao = J\n",
    "plt.plot(convergencia)\n",
    "plt.ylabel('Erro')\n",
    "plt.xlabel('Época')\n",
    "plt.grid(True)\n",
    "plt.yscale('log')\n",
    "plt.show()\n",
    "print('Erro de quantização: ' + str(J))"
   ]
  },
  {
   "cell_type": "markdown",
   "metadata": {},
   "source": [
    "### Plotagem da Rede SOM"
   ]
  },
  {
   "cell_type": "code",
   "execution_count": 13,
   "metadata": {
    "scrolled": false
   },
   "outputs": [
    {
     "data": {
      "text/plain": [
       "<matplotlib.image.AxesImage at 0x1af37177898>"
      ]
     },
     "execution_count": 13,
     "metadata": {},
     "output_type": "execute_result"
    },
    {
     "data": {
      "image/png": "[encoded data removed]",
      "text/plain": [
       "<Figure size 432x288 with 1 Axes>"
      ]
     },
     "metadata": {
      "needs_background": "light"
     },
     "output_type": "display_data"
    }
   ],
   "source": [
    "BMU = np.zeros([2],dtype=np.int32)\n",
    "result_map = np.zeros([linhas,colunas,3],dtype=np.float32)\n",
    "\n",
    "i = 0\n",
    "for entrada in entradas: \n",
    "    entrada_mod = np.tile(entrada, (linhas, colunas, 1))\n",
    "    Distancias = np.linalg.norm(entrada_mod - pesos_finais, axis=2)\n",
    "\n",
    "    # Obtem o neurônio vencedor, ou seja, o que tem menor distância\n",
    "    BMU = np.unravel_index(np.argmin(Distancias, axis=None), Distancias.shape)\n",
    "    \n",
    "    # Salva a posição do mesmo\n",
    "    x = BMU[0]\n",
    "    y = BMU[1]\n",
    "        \n",
    "    if classesN[i] == 0:\n",
    "        if result_map[x][y][0] <= 0.5:\n",
    "            result_map[x][y] += np.asarray([0.5,0,0])\n",
    "    elif classesN[i] == 1:\n",
    "        if result_map[x][y][1] <= 0.5:\n",
    "            result_map[x][y] += np.asarray([0,0.5,0])\n",
    "    elif classesN[i] == 2:\n",
    "        if result_map[x][y][2] <= 0.5:\n",
    "            result_map[x][y] += np.asarray([0,0,0.5])\n",
    "    i += 1\n",
    "result_map = np.flip(result_map,0)\n",
    "plt.title(\"Rede Som\")\n",
    "plt.imshow(result_map, interpolation='nearest')"
   ]
  },
  {
   "cell_type": "markdown",
   "metadata": {},
   "source": [
    "## KNN"
   ]
  },
  {
   "cell_type": "markdown",
   "metadata": {},
   "source": [
    "### Localização das K classes mais próximas  "
   ]
  },
  {
   "cell_type": "code",
   "execution_count": 14,
   "metadata": {},
   "outputs": [
    {
     "name": "stdout",
     "output_type": "stream",
     "text": [
      "[[2. 1. 1. ... 0. 0. 1.]\n",
      " [0. 0. 0. ... 1. 2. 1.]\n",
      " [1. 1. 0. ... 0. 1. 1.]\n",
      " ...\n",
      " [1. 1. 2. ... 0. 0. 0.]\n",
      " [0. 0. 0. ... 1. 1. 1.]\n",
      " [1. 1. 0. ... 0. 0. 0.]]\n"
     ]
    }
   ],
   "source": [
    "pesos = pesos_finais.reshape(linhas * colunas, dimensoes)\n",
    "matrizTempKNN = np.zeros((linhas * colunas, len(entradas)))\n",
    "matrizKNN = np.zeros((linhas * colunas, k))\n",
    "matrizKNNPos = np.zeros((linhas * colunas, k))\n",
    "\n",
    "\n",
    "for i in range(linhas * colunas):\n",
    "    for j in range(len(entradas)):\n",
    "        matrizTempKNN[i][j] = np.linalg.norm(pesos[i] - entradas[j])\n",
    "        # Linhas representam os neurônios e colunas as entradas\n",
    "\n",
    "    for m in range(k):        \n",
    "        menor = min(matrizTempKNN[i])        \n",
    "        n_pos = matrizTempKNN[i].argmin() \n",
    "        matrizKNNPos[i][m] = n_pos\n",
    "        matrizKNN[i][m] = classesN[n_pos]\n",
    "        matrizTempKNN[i][n_pos] = 99999\n",
    "\n",
    "print(matrizKNN)"
   ]
  },
  {
   "cell_type": "code",
   "execution_count": 15,
   "metadata": {},
   "outputs": [],
   "source": [
    "def unique(list1):   \n",
    "    unique_list = [] \n",
    "    for x in list1: \n",
    "        if x not in unique_list: \n",
    "            unique_list.append(x) \n",
    "    return x"
   ]
  },
  {
   "cell_type": "markdown",
   "metadata": {},
   "source": [
    "### Criação da matriz KNN (representação dos neurônios)"
   ]
  },
  {
   "cell_type": "code",
   "execution_count": 16,
   "metadata": {},
   "outputs": [
    {
     "name": "stdout",
     "output_type": "stream",
     "text": [
      "[[2. 1. 1. ... 0. 0. 1.]\n",
      " [0. 0. 0. ... 1. 2. 1.]\n",
      " [1. 1. 0. ... 0. 1. 1.]\n",
      " ...\n",
      " [1. 1. 2. ... 0. 0. 0.]\n",
      " [0. 0. 0. ... 1. 1. 1.]\n",
      " [1. 1. 0. ... 0. 0. 0.]]\n"
     ]
    }
   ],
   "source": [
    "NumClasses = unique(classesN) \n",
    "print(matrizKNN)\n",
    "for i in range(linhas * colunas):     \n",
    "    for j in range(k):  \n",
    "        matrizKNN[i][j] = matrizKNN[i][j] + 1"
   ]
  },
  {
   "cell_type": "code",
   "execution_count": 17,
   "metadata": {},
   "outputs": [],
   "source": [
    "M_KNN = np.zeros((linhas * colunas, NumClasses+1))\n",
    "for i in range(linhas * colunas):     \n",
    "    for j in range(k):       \n",
    "        M_KNN[i][int(matrizKNN[i][j])-1] = M_KNN[i][int(matrizKNN[i][j])-1] + 1        "
   ]
  },
  {
   "cell_type": "code",
   "execution_count": 18,
   "metadata": {},
   "outputs": [
    {
     "name": "stdout",
     "output_type": "stream",
     "text": [
      "[[3. 3. 1.]\n",
      " [3. 3. 1.]\n",
      " [3. 4. 0.]\n",
      " [2. 4. 1.]\n",
      " [2. 5. 0.]\n",
      " [2. 5. 0.]\n",
      " [3. 4. 0.]\n",
      " [4. 2. 1.]\n",
      " [6. 0. 1.]\n",
      " [6. 0. 1.]\n",
      " [2. 0. 5.]\n",
      " [0. 0. 7.]\n",
      " [0. 0. 7.]\n",
      " [0. 0. 7.]\n",
      " [0. 0. 7.]\n",
      " [3. 4. 0.]\n",
      " [3. 4. 0.]\n",
      " [3. 4. 0.]\n",
      " [4. 2. 1.]\n",
      " [5. 2. 0.]\n",
      " [2. 5. 0.]\n",
      " [3. 4. 0.]\n",
      " [4. 2. 1.]\n",
      " [6. 0. 1.]\n",
      " [7. 0. 0.]\n",
      " [4. 0. 3.]\n",
      " [0. 0. 7.]\n",
      " [0. 0. 7.]\n",
      " [0. 0. 7.]\n",
      " [0. 0. 7.]\n",
      " [5. 2. 0.]\n",
      " [3. 4. 0.]\n",
      " [3. 4. 0.]\n",
      " [5. 2. 0.]\n",
      " [7. 0. 0.]\n",
      " [5. 2. 0.]\n",
      " [5. 2. 0.]\n",
      " [6. 1. 0.]\n",
      " [6. 0. 1.]\n",
      " [7. 0. 0.]\n",
      " [6. 0. 1.]\n",
      " [1. 0. 6.]\n",
      " [0. 0. 7.]\n",
      " [0. 0. 7.]\n",
      " [0. 0. 7.]\n",
      " [6. 0. 1.]\n",
      " [6. 0. 1.]\n",
      " [4. 2. 1.]\n",
      " [5. 2. 0.]\n",
      " [4. 2. 1.]\n",
      " [6. 0. 1.]\n",
      " [6. 0. 1.]\n",
      " [5. 2. 0.]\n",
      " [7. 0. 0.]\n",
      " [7. 0. 0.]\n",
      " [7. 0. 0.]\n",
      " [5. 2. 0.]\n",
      " [3. 2. 2.]\n",
      " [2. 4. 1.]\n",
      " [2. 4. 1.]\n",
      " [3. 2. 2.]\n",
      " [0. 6. 1.]\n",
      " [0. 7. 0.]\n",
      " [5. 2. 0.]\n",
      " [4. 2. 1.]\n",
      " [3. 2. 2.]\n",
      " [4. 2. 1.]\n",
      " [5. 2. 0.]\n",
      " [3. 4. 0.]\n",
      " [5. 2. 0.]\n",
      " [6. 1. 0.]\n",
      " [7. 0. 0.]\n",
      " [4. 3. 0.]\n",
      " [3. 4. 0.]\n",
      " [3. 4. 0.]\n",
      " [0. 5. 2.]\n",
      " [0. 7. 0.]\n",
      " [0. 7. 0.]\n",
      " [3. 4. 0.]\n",
      " [3. 4. 0.]\n",
      " [3. 4. 0.]\n",
      " [5. 2. 0.]\n",
      " [2. 5. 0.]\n",
      " [3. 4. 0.]\n",
      " [5. 2. 0.]\n",
      " [5. 2. 0.]\n",
      " [7. 0. 0.]\n",
      " [5. 2. 0.]\n",
      " [5. 2. 0.]\n",
      " [4. 3. 0.]\n",
      " [2. 4. 1.]\n",
      " [2. 4. 1.]\n",
      " [1. 4. 2.]\n",
      " [0. 6. 1.]\n",
      " [3. 3. 1.]\n",
      " [3. 4. 0.]\n",
      " [3. 4. 0.]\n",
      " [7. 0. 0.]\n",
      " [3. 4. 0.]\n",
      " [2. 5. 0.]\n",
      " [2. 5. 0.]\n",
      " [3. 4. 0.]\n",
      " [5. 2. 0.]\n",
      " [2. 5. 0.]\n",
      " [2. 5. 0.]\n",
      " [0. 2. 5.]\n",
      " [2. 2. 3.]\n",
      " [3. 2. 2.]\n",
      " [0. 6. 1.]\n",
      " [0. 6. 1.]\n",
      " [1. 6. 0.]\n",
      " [3. 4. 0.]\n",
      " [3. 4. 0.]\n",
      " [5. 2. 0.]\n",
      " [5. 2. 0.]\n",
      " [3. 4. 0.]\n",
      " [0. 7. 0.]\n",
      " [0. 7. 0.]\n",
      " [2. 5. 0.]\n",
      " [2. 5. 0.]\n",
      " [0. 0. 7.]\n",
      " [0. 0. 7.]\n",
      " [0. 0. 7.]\n",
      " [0. 0. 7.]\n",
      " [0. 0. 7.]\n",
      " [0. 6. 1.]\n",
      " [2. 5. 0.]\n",
      " [4. 2. 1.]\n",
      " [5. 2. 0.]\n",
      " [5. 1. 1.]\n",
      " [6. 1. 0.]\n",
      " [2. 4. 1.]\n",
      " [0. 6. 1.]\n",
      " [2. 4. 1.]\n",
      " [3. 3. 1.]\n",
      " [0. 0. 7.]\n",
      " [0. 0. 7.]\n",
      " [0. 0. 7.]\n",
      " [0. 0. 7.]\n",
      " [0. 0. 7.]\n",
      " [0. 0. 7.]\n",
      " [0. 7. 0.]\n",
      " [3. 2. 2.]\n",
      " [3. 2. 2.]\n",
      " [4. 2. 1.]\n",
      " [4. 3. 0.]\n",
      " [2. 4. 1.]\n",
      " [0. 5. 2.]\n",
      " [0. 7. 0.]\n",
      " [3. 4. 0.]\n",
      " [0. 0. 7.]\n",
      " [0. 0. 7.]\n",
      " [0. 0. 7.]\n",
      " [0. 0. 7.]\n",
      " [0. 0. 7.]\n",
      " [0. 0. 7.]\n",
      " [2. 4. 1.]\n",
      " [3. 3. 1.]\n",
      " [3. 3. 1.]\n",
      " [3. 4. 0.]\n",
      " [3. 4. 0.]\n",
      " [0. 5. 2.]\n",
      " [0. 6. 1.]\n",
      " [0. 6. 1.]\n",
      " [0. 6. 1.]\n",
      " [0. 0. 7.]\n",
      " [0. 0. 7.]\n",
      " [0. 0. 7.]\n",
      " [0. 0. 7.]\n",
      " [0. 0. 7.]\n",
      " [0. 0. 7.]\n",
      " [2. 0. 5.]\n",
      " [2. 4. 1.]\n",
      " [3. 4. 0.]\n",
      " [3. 4. 0.]\n",
      " [5. 2. 0.]\n",
      " [0. 6. 1.]\n",
      " [4. 2. 1.]\n",
      " [4. 2. 1.]\n",
      " [4. 2. 1.]\n",
      " [0. 0. 7.]\n",
      " [0. 0. 7.]\n",
      " [0. 0. 7.]\n",
      " [0. 0. 7.]\n",
      " [0. 0. 7.]\n",
      " [0. 0. 7.]\n",
      " [0. 2. 5.]\n",
      " [2. 2. 3.]\n",
      " [2. 5. 0.]\n",
      " [5. 2. 0.]\n",
      " [5. 2. 0.]\n",
      " [3. 4. 0.]\n",
      " [6. 0. 1.]\n",
      " [4. 2. 1.]\n",
      " [5. 2. 0.]\n",
      " [0. 0. 7.]\n",
      " [0. 0. 7.]\n",
      " [0. 0. 7.]\n",
      " [0. 0. 7.]\n",
      " [0. 0. 7.]\n",
      " [0. 0. 7.]\n",
      " [0. 2. 5.]\n",
      " [0. 2. 5.]\n",
      " [2. 4. 1.]\n",
      " [5. 2. 0.]\n",
      " [3. 4. 0.]\n",
      " [2. 4. 1.]\n",
      " [3. 2. 2.]\n",
      " [4. 2. 1.]\n",
      " [6. 1. 0.]\n",
      " [0. 0. 7.]\n",
      " [0. 0. 7.]\n",
      " [0. 0. 7.]\n",
      " [0. 0. 7.]\n",
      " [0. 0. 7.]\n",
      " [0. 0. 7.]\n",
      " [0. 2. 5.]\n",
      " [0. 2. 5.]\n",
      " [0. 3. 4.]\n",
      " [2. 4. 1.]\n",
      " [2. 4. 1.]\n",
      " [2. 4. 1.]\n",
      " [4. 2. 1.]\n",
      " [3. 4. 0.]\n",
      " [5. 2. 0.]]\n"
     ]
    }
   ],
   "source": [
    "print(M_KNN)"
   ]
  },
  {
   "cell_type": "markdown",
   "metadata": {},
   "source": [
    "### Resultados do KNN"
   ]
  },
  {
   "cell_type": "code",
   "execution_count": 19,
   "metadata": {},
   "outputs": [
    {
     "name": "stdout",
     "output_type": "stream",
     "text": [
      "Neurônio: 1 - classe: 10.0\n",
      "Neurônio: 2 - classe: 10.0\n",
      "Neurônio: 3 - classe: 2.0\n",
      "Neurônio: 4 - classe: 2.0\n",
      "Neurônio: 5 - classe: 2.0\n",
      "Neurônio: 6 - classe: 2.0\n",
      "Neurônio: 7 - classe: 2.0\n",
      "Neurônio: 8 - classe: 1.0\n",
      "Neurônio: 9 - classe: 1.0\n",
      "Neurônio: 10 - classe: 1.0\n",
      "Neurônio: 11 - classe: 3.0\n",
      "Neurônio: 12 - classe: 3.0\n",
      "Neurônio: 13 - classe: 3.0\n",
      "Neurônio: 14 - classe: 3.0\n",
      "Neurônio: 15 - classe: 3.0\n",
      "Neurônio: 16 - classe: 2.0\n",
      "Neurônio: 17 - classe: 2.0\n",
      "Neurônio: 18 - classe: 2.0\n",
      "Neurônio: 19 - classe: 1.0\n",
      "Neurônio: 20 - classe: 1.0\n",
      "Neurônio: 21 - classe: 2.0\n",
      "Neurônio: 22 - classe: 2.0\n",
      "Neurônio: 23 - classe: 1.0\n",
      "Neurônio: 24 - classe: 1.0\n",
      "Neurônio: 25 - classe: 1.0\n",
      "Neurônio: 26 - classe: 1.0\n",
      "Neurônio: 27 - classe: 3.0\n",
      "Neurônio: 28 - classe: 3.0\n",
      "Neurônio: 29 - classe: 3.0\n",
      "Neurônio: 30 - classe: 3.0\n",
      "Neurônio: 31 - classe: 1.0\n",
      "Neurônio: 32 - classe: 2.0\n",
      "Neurônio: 33 - classe: 2.0\n",
      "Neurônio: 34 - classe: 1.0\n",
      "Neurônio: 35 - classe: 1.0\n",
      "Neurônio: 36 - classe: 1.0\n",
      "Neurônio: 37 - classe: 1.0\n",
      "Neurônio: 38 - classe: 1.0\n",
      "Neurônio: 39 - classe: 1.0\n",
      "Neurônio: 40 - classe: 1.0\n",
      "Neurônio: 41 - classe: 1.0\n",
      "Neurônio: 42 - classe: 3.0\n",
      "Neurônio: 43 - classe: 3.0\n",
      "Neurônio: 44 - classe: 3.0\n",
      "Neurônio: 45 - classe: 3.0\n",
      "Neurônio: 46 - classe: 1.0\n",
      "Neurônio: 47 - classe: 1.0\n",
      "Neurônio: 48 - classe: 1.0\n",
      "Neurônio: 49 - classe: 1.0\n",
      "Neurônio: 50 - classe: 1.0\n",
      "Neurônio: 51 - classe: 1.0\n",
      "Neurônio: 52 - classe: 1.0\n",
      "Neurônio: 53 - classe: 1.0\n",
      "Neurônio: 54 - classe: 1.0\n",
      "Neurônio: 55 - classe: 1.0\n",
      "Neurônio: 56 - classe: 1.0\n",
      "Neurônio: 57 - classe: 1.0\n",
      "Neurônio: 58 - classe: 1.0\n",
      "Neurônio: 59 - classe: 2.0\n",
      "Neurônio: 60 - classe: 2.0\n",
      "Neurônio: 61 - classe: 1.0\n",
      "Neurônio: 62 - classe: 2.0\n",
      "Neurônio: 63 - classe: 2.0\n",
      "Neurônio: 64 - classe: 1.0\n",
      "Neurônio: 65 - classe: 1.0\n",
      "Neurônio: 66 - classe: 1.0\n",
      "Neurônio: 67 - classe: 1.0\n",
      "Neurônio: 68 - classe: 1.0\n",
      "Neurônio: 69 - classe: 2.0\n",
      "Neurônio: 70 - classe: 1.0\n",
      "Neurônio: 71 - classe: 1.0\n",
      "Neurônio: 72 - classe: 1.0\n",
      "Neurônio: 73 - classe: 1.0\n",
      "Neurônio: 74 - classe: 2.0\n",
      "Neurônio: 75 - classe: 2.0\n",
      "Neurônio: 76 - classe: 2.0\n",
      "Neurônio: 77 - classe: 2.0\n",
      "Neurônio: 78 - classe: 2.0\n",
      "Neurônio: 79 - classe: 2.0\n",
      "Neurônio: 80 - classe: 2.0\n",
      "Neurônio: 81 - classe: 2.0\n",
      "Neurônio: 82 - classe: 1.0\n",
      "Neurônio: 83 - classe: 2.0\n",
      "Neurônio: 84 - classe: 2.0\n",
      "Neurônio: 85 - classe: 1.0\n",
      "Neurônio: 86 - classe: 1.0\n",
      "Neurônio: 87 - classe: 1.0\n",
      "Neurônio: 88 - classe: 1.0\n",
      "Neurônio: 89 - classe: 1.0\n",
      "Neurônio: 90 - classe: 1.0\n",
      "Neurônio: 91 - classe: 2.0\n",
      "Neurônio: 92 - classe: 2.0\n",
      "Neurônio: 93 - classe: 2.0\n",
      "Neurônio: 94 - classe: 2.0\n",
      "Neurônio: 95 - classe: 10.0\n",
      "Neurônio: 96 - classe: 2.0\n",
      "Neurônio: 97 - classe: 2.0\n",
      "Neurônio: 98 - classe: 1.0\n",
      "Neurônio: 99 - classe: 2.0\n",
      "Neurônio: 100 - classe: 2.0\n",
      "Neurônio: 101 - classe: 2.0\n",
      "Neurônio: 102 - classe: 2.0\n",
      "Neurônio: 103 - classe: 1.0\n",
      "Neurônio: 104 - classe: 2.0\n",
      "Neurônio: 105 - classe: 2.0\n",
      "Neurônio: 106 - classe: 3.0\n",
      "Neurônio: 107 - classe: 3.0\n",
      "Neurônio: 108 - classe: 1.0\n",
      "Neurônio: 109 - classe: 2.0\n",
      "Neurônio: 110 - classe: 2.0\n",
      "Neurônio: 111 - classe: 2.0\n",
      "Neurônio: 112 - classe: 2.0\n",
      "Neurônio: 113 - classe: 2.0\n",
      "Neurônio: 114 - classe: 1.0\n",
      "Neurônio: 115 - classe: 1.0\n",
      "Neurônio: 116 - classe: 2.0\n",
      "Neurônio: 117 - classe: 2.0\n",
      "Neurônio: 118 - classe: 2.0\n",
      "Neurônio: 119 - classe: 2.0\n",
      "Neurônio: 120 - classe: 2.0\n",
      "Neurônio: 121 - classe: 3.0\n",
      "Neurônio: 122 - classe: 3.0\n",
      "Neurônio: 123 - classe: 3.0\n",
      "Neurônio: 124 - classe: 3.0\n",
      "Neurônio: 125 - classe: 3.0\n",
      "Neurônio: 126 - classe: 2.0\n",
      "Neurônio: 127 - classe: 2.0\n",
      "Neurônio: 128 - classe: 1.0\n",
      "Neurônio: 129 - classe: 1.0\n",
      "Neurônio: 130 - classe: 1.0\n",
      "Neurônio: 131 - classe: 1.0\n",
      "Neurônio: 132 - classe: 2.0\n",
      "Neurônio: 133 - classe: 2.0\n",
      "Neurônio: 134 - classe: 2.0\n",
      "Neurônio: 135 - classe: 10.0\n",
      "Neurônio: 136 - classe: 3.0\n",
      "Neurônio: 137 - classe: 3.0\n",
      "Neurônio: 138 - classe: 3.0\n",
      "Neurônio: 139 - classe: 3.0\n",
      "Neurônio: 140 - classe: 3.0\n",
      "Neurônio: 141 - classe: 3.0\n",
      "Neurônio: 142 - classe: 2.0\n",
      "Neurônio: 143 - classe: 1.0\n",
      "Neurônio: 144 - classe: 1.0\n",
      "Neurônio: 145 - classe: 1.0\n",
      "Neurônio: 146 - classe: 1.0\n",
      "Neurônio: 147 - classe: 2.0\n",
      "Neurônio: 148 - classe: 2.0\n",
      "Neurônio: 149 - classe: 2.0\n",
      "Neurônio: 150 - classe: 2.0\n",
      "Neurônio: 151 - classe: 3.0\n",
      "Neurônio: 152 - classe: 3.0\n",
      "Neurônio: 153 - classe: 3.0\n",
      "Neurônio: 154 - classe: 3.0\n",
      "Neurônio: 155 - classe: 3.0\n",
      "Neurônio: 156 - classe: 3.0\n",
      "Neurônio: 157 - classe: 2.0\n",
      "Neurônio: 158 - classe: 10.0\n",
      "Neurônio: 159 - classe: 10.0\n",
      "Neurônio: 160 - classe: 2.0\n",
      "Neurônio: 161 - classe: 2.0\n",
      "Neurônio: 162 - classe: 2.0\n",
      "Neurônio: 163 - classe: 2.0\n",
      "Neurônio: 164 - classe: 2.0\n",
      "Neurônio: 165 - classe: 2.0\n",
      "Neurônio: 166 - classe: 3.0\n",
      "Neurônio: 167 - classe: 3.0\n",
      "Neurônio: 168 - classe: 3.0\n",
      "Neurônio: 169 - classe: 3.0\n",
      "Neurônio: 170 - classe: 3.0\n",
      "Neurônio: 171 - classe: 3.0\n",
      "Neurônio: 172 - classe: 3.0\n",
      "Neurônio: 173 - classe: 2.0\n",
      "Neurônio: 174 - classe: 2.0\n",
      "Neurônio: 175 - classe: 2.0\n",
      "Neurônio: 176 - classe: 1.0\n",
      "Neurônio: 177 - classe: 2.0\n",
      "Neurônio: 178 - classe: 1.0\n",
      "Neurônio: 179 - classe: 1.0\n",
      "Neurônio: 180 - classe: 1.0\n",
      "Neurônio: 181 - classe: 3.0\n",
      "Neurônio: 182 - classe: 3.0\n",
      "Neurônio: 183 - classe: 3.0\n",
      "Neurônio: 184 - classe: 3.0\n",
      "Neurônio: 185 - classe: 3.0\n",
      "Neurônio: 186 - classe: 3.0\n",
      "Neurônio: 187 - classe: 3.0\n",
      "Neurônio: 188 - classe: 3.0\n",
      "Neurônio: 189 - classe: 2.0\n",
      "Neurônio: 190 - classe: 1.0\n",
      "Neurônio: 191 - classe: 1.0\n",
      "Neurônio: 192 - classe: 2.0\n",
      "Neurônio: 193 - classe: 1.0\n",
      "Neurônio: 194 - classe: 1.0\n",
      "Neurônio: 195 - classe: 1.0\n",
      "Neurônio: 196 - classe: 3.0\n",
      "Neurônio: 197 - classe: 3.0\n",
      "Neurônio: 198 - classe: 3.0\n",
      "Neurônio: 199 - classe: 3.0\n",
      "Neurônio: 200 - classe: 3.0\n",
      "Neurônio: 201 - classe: 3.0\n",
      "Neurônio: 202 - classe: 3.0\n",
      "Neurônio: 203 - classe: 3.0\n",
      "Neurônio: 204 - classe: 2.0\n",
      "Neurônio: 205 - classe: 1.0\n",
      "Neurônio: 206 - classe: 2.0\n",
      "Neurônio: 207 - classe: 2.0\n",
      "Neurônio: 208 - classe: 1.0\n",
      "Neurônio: 209 - classe: 1.0\n",
      "Neurônio: 210 - classe: 1.0\n",
      "Neurônio: 211 - classe: 3.0\n",
      "Neurônio: 212 - classe: 3.0\n",
      "Neurônio: 213 - classe: 3.0\n",
      "Neurônio: 214 - classe: 3.0\n",
      "Neurônio: 215 - classe: 3.0\n",
      "Neurônio: 216 - classe: 3.0\n",
      "Neurônio: 217 - classe: 3.0\n",
      "Neurônio: 218 - classe: 3.0\n",
      "Neurônio: 219 - classe: 3.0\n",
      "Neurônio: 220 - classe: 2.0\n",
      "Neurônio: 221 - classe: 2.0\n",
      "Neurônio: 222 - classe: 2.0\n",
      "Neurônio: 223 - classe: 1.0\n",
      "Neurônio: 224 - classe: 2.0\n",
      "Neurônio: 225 - classe: 1.0\n"
     ]
    }
   ],
   "source": [
    "resultados = np.zeros(linhas * colunas)\n",
    "for i in range(linhas * colunas):\n",
    "        cont = 0\n",
    "        maximo = np.max(M_KNN[i])   \n",
    "        id_max = M_KNN[i].argmax()\n",
    "        for j in range(NumClasses):    \n",
    "            if (maximo == M_KNN[i][j]):\n",
    "                cont = cont + 1\n",
    "            if (cont > 1):\n",
    "                resultados[i] = 9\n",
    "            else:\n",
    "                resultados[i] = id_max\n",
    "        print(\"Neurônio: \"+ str(i + 1) + \" - classe: \"+ str(resultados[i]+1))    "
   ]
  },
  {
   "cell_type": "markdown",
   "metadata": {},
   "source": [
    "## Divisão das entradas para classificação e validação"
   ]
  },
  {
   "cell_type": "code",
   "execution_count": 20,
   "metadata": {},
   "outputs": [],
   "source": [
    "entradas_trei, entradas_val, classes_trei, classes_val = train_test_split(entradas, classesN, test_size=0.20)"
   ]
  },
  {
   "cell_type": "markdown",
   "metadata": {},
   "source": [
    "## Teste do KNN"
   ]
  },
  {
   "cell_type": "code",
   "execution_count": 21,
   "metadata": {},
   "outputs": [
    {
     "name": "stdout",
     "output_type": "stream",
     "text": [
      "Média Absoluta do Erro: 0.6555323590814196\n"
     ]
    }
   ],
   "source": [
    "num_entradas_trei = len(entradas_trei)\n",
    "tamanho = pesos.shape\n",
    "neuronios = tamanho[0]\n",
    "\n",
    "distancias = np.zeros(neuronios)\n",
    "classesCalc = np.zeros(len(entradas_trei))\n",
    "\n",
    "soma = 0\n",
    "for i in range(num_entradas_trei): \n",
    "    for j in range(neuronios):\n",
    "        dist = np.linalg.norm(pesos[j]-entradas_trei[i]) \n",
    "        distancias[j] = dist    \n",
    "        \n",
    "    posicao = distancias.argmin()\n",
    "    classesCalc[i] = int(resultados[posicao])\n",
    "\n",
    "# cálculo do erro\n",
    "erro = classes_trei - classesCalc\n",
    "\n",
    "# Média absoluta do erro\n",
    "mediaErro = np.mean(np.abs(erro))\n",
    "print(\"Média Absoluta do Erro: \"+ str(mediaErro))"
   ]
  },
  {
   "cell_type": "markdown",
   "metadata": {},
   "source": [
    "### Classes corretas"
   ]
  },
  {
   "cell_type": "code",
   "execution_count": 22,
   "metadata": {},
   "outputs": [
    {
     "name": "stdout",
     "output_type": "stream",
     "text": [
      "[2 0 1 2 0 0 2 1 0 1 1 1 1 1 2 2 0 2 1 2 0 0 2 0 2 1 2 1 1 2 0 0 1 1 0 1 1\n",
      " 2 2 1 0 0 2 2 2 1 2 1 1 1 0 1 0 0 1 1 1 0 0 1 2 0 2 0 0 2 1 0 0 0 2 1 0 1\n",
      " 1 2 0 0 1 2 2 1 2 0 2 2 0 2 2 1 0 1 2 2 2 1 0 2 0 2 0 2 0 1 2 2 1 2 1 0 2\n",
      " 2 2 0 2 1 2 0 0 0 2 0 0 1 1 0 2 1 1 0 0 2 0 2 0 1 0 1 1 0 2 1 2 1 1 0 1 2\n",
      " 2 1 0 1 2 1 0 0 1 2 1 2 0 2 2 2 2 1 1 0 1 0 0 1 0 0 0 1 1 0 1 0 2 1 0 2 0\n",
      " 2 2 2 1 1 0 1 1 0 1 1 0 2 2 0 0 0 1 1 0 0 1 1 2 2 1 2 1 2 0 0 2 2 0 0 1 2\n",
      " 2 1 2 0 1 1 2 2 1 2 2 1 1 0 1 1 0 0 1 0 1 2 2 0 0 0 1 1 1 2 0 2 0 1 0 1 1\n",
      " 0 0 0 2 1 2 2 1 2 2 1 0 0 0 0 1 1 0 1 2 2 2 1 2 2 2 0 1 2 2 2 0 0 2 0 1 2\n",
      " 0 0 0 0 1 2 0 0 0 2 2 0 0 2 2 1 2 1 1 2 2 2 0 1 2 2 0 1 0 2 1 1 0 2 0 0 2\n",
      " 2 2 1 0 2 0 2 1 1 2 1 0 1 1 0 0 0 2 2 0 0 2 0 2 1 1 2 1 0 2 0 1 2 2 1 0 1\n",
      " 1 1 0 2 2 2 2 2 1 2 1 1 1 0 0 0 0 0 0 0 2 0 0 2 1 0 1 2 1 2 1 2 1 0 0 2 1\n",
      " 2 1 0 2 1 2 0 0 0 1 1 2 2 2 0 2 0 2 1 1 2 1 0 0 0 2 0 0 2 0 0 2 1 1 0 0 2\n",
      " 0 1 2 1 1 0 2 2 2 0 0 2 2 0 1 0 1 2 2 1 1 2 1 2 1 0 0 0 0 1 1 2 2 0 2]\n"
     ]
    }
   ],
   "source": [
    "print(classes_trei)"
   ]
  },
  {
   "cell_type": "markdown",
   "metadata": {},
   "source": [
    "### Classes calculadas"
   ]
  },
  {
   "cell_type": "code",
   "execution_count": 23,
   "metadata": {},
   "outputs": [
    {
     "name": "stdout",
     "output_type": "stream",
     "text": [
      "[2. 0. 0. 2. 0. 0. 2. 0. 0. 1. 1. 1. 0. 1. 2. 2. 0. 2. 0. 2. 0. 0. 2. 9.\n",
      " 2. 1. 2. 1. 1. 2. 1. 0. 0. 0. 0. 0. 1. 2. 2. 1. 0. 1. 1. 2. 2. 9. 2. 1.\n",
      " 0. 1. 0. 1. 0. 0. 0. 1. 0. 0. 1. 1. 2. 9. 2. 1. 0. 2. 1. 0. 0. 0. 2. 2.\n",
      " 2. 1. 0. 2. 0. 0. 1. 2. 1. 1. 2. 0. 2. 0. 0. 2. 2. 0. 0. 0. 2. 2. 2. 1.\n",
      " 1. 2. 0. 2. 0. 2. 0. 1. 2. 0. 0. 2. 1. 0. 0. 2. 2. 0. 2. 0. 2. 0. 0. 1.\n",
      " 2. 2. 0. 1. 1. 0. 2. 1. 1. 9. 0. 1. 0. 2. 1. 1. 1. 0. 1. 0. 2. 1. 2. 1.\n",
      " 0. 0. 0. 2. 2. 9. 0. 0. 2. 0. 0. 0. 0. 2. 9. 0. 0. 0. 2. 2. 2. 0. 0. 1.\n",
      " 1. 0. 1. 0. 1. 1. 0. 1. 1. 0. 2. 0. 2. 1. 1. 2. 0. 2. 0. 2. 9. 1. 0. 9.\n",
      " 0. 1. 1. 1. 1. 1. 2. 0. 0. 0. 1. 0. 1. 1. 1. 1. 2. 2. 2. 2. 1. 2. 9. 0.\n",
      " 2. 0. 0. 0. 1. 1. 2. 1. 1. 0. 1. 1. 2. 2. 1. 2. 2. 1. 0. 0. 0. 9. 1. 0.\n",
      " 1. 0. 1. 2. 2. 0. 1. 0. 0. 1. 1. 1. 2. 2. 1. 1. 9. 0. 1. 1. 0. 0. 2. 0.\n",
      " 2. 2. 1. 2. 2. 1. 0. 0. 1. 0. 0. 1. 9. 0. 2. 2. 2. 1. 2. 2. 1. 0. 1. 2.\n",
      " 1. 2. 0. 0. 2. 0. 9. 2. 0. 0. 0. 1. 0. 1. 0. 0. 0. 2. 2. 0. 1. 2. 2. 1.\n",
      " 2. 0. 1. 2. 2. 2. 0. 1. 2. 2. 0. 1. 0. 2. 1. 1. 1. 2. 1. 0. 2. 2. 1. 1.\n",
      " 1. 2. 0. 2. 1. 0. 2. 1. 0. 1. 1. 0. 0. 0. 2. 2. 0. 0. 2. 0. 2. 1. 1. 2.\n",
      " 1. 0. 2. 0. 1. 2. 2. 1. 1. 1. 1. 1. 0. 2. 0. 2. 2. 2. 1. 2. 1. 1. 1. 1.\n",
      " 0. 1. 1. 0. 1. 0. 1. 0. 0. 1. 0. 0. 1. 0. 1. 0. 1. 0. 1. 0. 0. 2. 1. 0.\n",
      " 9. 1. 2. 0. 2. 0. 1. 0. 1. 0. 2. 2. 2. 0. 2. 0. 2. 1. 0. 2. 1. 0. 0. 0.\n",
      " 2. 1. 1. 2. 9. 1. 0. 9. 1. 1. 0. 1. 0. 0. 2. 1. 1. 1. 2. 2. 2. 9. 0. 2.\n",
      " 2. 0. 1. 9. 1. 1. 2. 1. 1. 1. 0. 2. 1. 9. 9. 9. 0. 1. 1. 1. 2. 1. 2.]\n"
     ]
    }
   ],
   "source": [
    "print(classesCalc)"
   ]
  },
  {
   "cell_type": "markdown",
   "metadata": {},
   "source": [
    "## Matriz de confusão"
   ]
  },
  {
   "cell_type": "code",
   "execution_count": 24,
   "metadata": {},
   "outputs": [],
   "source": [
    "from sklearn.metrics import confusion_matrix\n",
    "import matplotlib.pyplot as plt\n",
    "import itertools\n",
    "\n",
    "def plot_confusion_matrix(cm, classes,\n",
    "                          normalize=False,\n",
    "                          title='Matriz de Confusão',\n",
    "                          cmap=plt.cm.Blues):   \n",
    "\n",
    "    plt.imshow(cm, interpolation='nearest', cmap=cmap)\n",
    "    plt.title(title)\n",
    "    plt.colorbar()\n",
    "    tick_marks = np.arange(len(classes))\n",
    "    plt.xticks(tick_marks, classes, rotation=45)\n",
    "    plt.yticks(tick_marks, classes)\n",
    "\n",
    "    fmt = '.2f' if normalize else 'd'\n",
    "    thresh = cm.max() / 2.\n",
    "    for i, j in itertools.product(range(cm.shape[0]), range(cm.shape[1])):\n",
    "        plt.text(j, i, format(cm[i, j], fmt),\n",
    "                 horizontalalignment=\"center\",\n",
    "                 color=\"white\" if cm[i, j] > thresh else \"black\")\n",
    "\n",
    "    plt.tight_layout()\n",
    "    plt.ylabel('Saída correta')\n",
    "    plt.xlabel('Saída encontrada')    "
   ]
  },
  {
   "cell_type": "code",
   "execution_count": 25,
   "metadata": {},
   "outputs": [
    {
     "data": {
      "image/png": "[encoded data removed]",
      "text/plain": [
       "<Figure size 432x288 with 2 Axes>"
      ]
     },
     "metadata": {
      "needs_background": "light"
     },
     "output_type": "display_data"
    }
   ],
   "source": [
    "cm = confusion_matrix(classes_trei, classesCalc)\n",
    "plot_confusion_matrix(cm, \n",
    "                      classes=['0', '1', '2'],\n",
    "                      title='Matriz de Confusão')"
   ]
  },
  {
   "cell_type": "markdown",
   "metadata": {},
   "source": [
    "### Criar DataSet das Informações sobre as execuções"
   ]
  },
  {
   "cell_type": "markdown",
   "metadata": {},
   "source": [
    "#### Abre o arquivo"
   ]
  },
  {
   "cell_type": "code",
   "execution_count": 26,
   "metadata": {},
   "outputs": [],
   "source": [
    "arquivo = open('../resultados/SOM/BaseTernariaDados.txt', 'r')\n",
    "conteudo = arquivo.readlines()"
   ]
  },
  {
   "cell_type": "markdown",
   "metadata": {},
   "source": [
    "#### Inserir os dados"
   ]
  },
  {
   "cell_type": "code",
   "execution_count": 27,
   "metadata": {},
   "outputs": [],
   "source": [
    "conteudo.append(\"\\n\"+str(epocas)+\",\"+str(PadNorm)+\",\"+str(linhas)+\",\"+str(colunas)+\",\"+str(TamVizIni)+\",\"+str(TaxaAprendIni)+\",\"+str(TaxaAprend)+\",\"+str(ErroQuantizacao)+\",\"+str(k)+\",\"+str(mediaErro))"
   ]
  },
  {
   "cell_type": "markdown",
   "metadata": {},
   "source": [
    "#### Abre o arquivo como escrita, escreve o conteúdo e fecha o mesmo"
   ]
  },
  {
   "cell_type": "code",
   "execution_count": 28,
   "metadata": {},
   "outputs": [],
   "source": [
    "arquivo = open('../resultados/SOM/BaseTernariaDados.txt', 'w')\n",
    "arquivo.writelines(conteudo)\n",
    "arquivo.close()"
   ]
  },
  {
   "cell_type": "markdown",
   "metadata": {},
   "source": [
    "#### Leitura dos dados existentes"
   ]
  },
  {
   "cell_type": "code",
   "execution_count": 29,
   "metadata": {},
   "outputs": [
    {
     "data": {
      "text/html": [
       "<div>\n",
       "<style scoped>\n",
       "    .dataframe tbody tr th:only-of-type {\n",
       "        vertical-align: middle;\n",
       "    }\n",
       "\n",
       "    .dataframe tbody tr th {\n",
       "        vertical-align: top;\n",
       "    }\n",
       "\n",
       "    .dataframe thead th {\n",
       "        text-align: right;\n",
       "    }\n",
       "</style>\n",
       "<table border=\"1\" class=\"dataframe\">\n",
       "  <thead>\n",
       "    <tr style=\"text-align: right;\">\n",
       "      <th></th>\n",
       "      <th>epocas</th>\n",
       "      <th>NormPad</th>\n",
       "      <th>Linhas</th>\n",
       "      <th>Colunas</th>\n",
       "      <th>TamVizIni</th>\n",
       "      <th>TaxaAprendIni</th>\n",
       "      <th>TaxaAprendFin</th>\n",
       "      <th>ErroQuant</th>\n",
       "      <th>K</th>\n",
       "      <th>MedAbsErro</th>\n",
       "    </tr>\n",
       "  </thead>\n",
       "  <tbody>\n",
       "    <tr>\n",
       "      <th>4</th>\n",
       "      <td>100</td>\n",
       "      <td>1</td>\n",
       "      <td>13</td>\n",
       "      <td>13</td>\n",
       "      <td>3</td>\n",
       "      <td>0.3</td>\n",
       "      <td>0.003000</td>\n",
       "      <td>0.002409</td>\n",
       "      <td>3</td>\n",
       "      <td>0.294363</td>\n",
       "    </tr>\n",
       "    <tr>\n",
       "      <th>11</th>\n",
       "      <td>200</td>\n",
       "      <td>1</td>\n",
       "      <td>13</td>\n",
       "      <td>13</td>\n",
       "      <td>3</td>\n",
       "      <td>0.5</td>\n",
       "      <td>0.002500</td>\n",
       "      <td>0.000995</td>\n",
       "      <td>3</td>\n",
       "      <td>0.323591</td>\n",
       "    </tr>\n",
       "    <tr>\n",
       "      <th>9</th>\n",
       "      <td>100</td>\n",
       "      <td>1</td>\n",
       "      <td>13</td>\n",
       "      <td>13</td>\n",
       "      <td>3</td>\n",
       "      <td>0.5</td>\n",
       "      <td>0.005000</td>\n",
       "      <td>0.004614</td>\n",
       "      <td>3</td>\n",
       "      <td>0.325678</td>\n",
       "    </tr>\n",
       "    <tr>\n",
       "      <th>3</th>\n",
       "      <td>100</td>\n",
       "      <td>1</td>\n",
       "      <td>11</td>\n",
       "      <td>11</td>\n",
       "      <td>3</td>\n",
       "      <td>0.3</td>\n",
       "      <td>0.003000</td>\n",
       "      <td>0.000989</td>\n",
       "      <td>3</td>\n",
       "      <td>0.338205</td>\n",
       "    </tr>\n",
       "    <tr>\n",
       "      <th>12</th>\n",
       "      <td>200</td>\n",
       "      <td>1</td>\n",
       "      <td>13</td>\n",
       "      <td>13</td>\n",
       "      <td>3</td>\n",
       "      <td>0.3</td>\n",
       "      <td>0.001500</td>\n",
       "      <td>0.000866</td>\n",
       "      <td>3</td>\n",
       "      <td>0.338205</td>\n",
       "    </tr>\n",
       "    <tr>\n",
       "      <th>15</th>\n",
       "      <td>100</td>\n",
       "      <td>2</td>\n",
       "      <td>13</td>\n",
       "      <td>13</td>\n",
       "      <td>3</td>\n",
       "      <td>0.3</td>\n",
       "      <td>0.003000</td>\n",
       "      <td>0.021843</td>\n",
       "      <td>3</td>\n",
       "      <td>0.348643</td>\n",
       "    </tr>\n",
       "    <tr>\n",
       "      <th>8</th>\n",
       "      <td>100</td>\n",
       "      <td>1</td>\n",
       "      <td>11</td>\n",
       "      <td>11</td>\n",
       "      <td>3</td>\n",
       "      <td>0.5</td>\n",
       "      <td>0.005000</td>\n",
       "      <td>0.006178</td>\n",
       "      <td>3</td>\n",
       "      <td>0.348643</td>\n",
       "    </tr>\n",
       "    <tr>\n",
       "      <th>16</th>\n",
       "      <td>300</td>\n",
       "      <td>2</td>\n",
       "      <td>11</td>\n",
       "      <td>11</td>\n",
       "      <td>5</td>\n",
       "      <td>0.4</td>\n",
       "      <td>0.001333</td>\n",
       "      <td>0.004637</td>\n",
       "      <td>3</td>\n",
       "      <td>0.365344</td>\n",
       "    </tr>\n",
       "    <tr>\n",
       "      <th>7</th>\n",
       "      <td>100</td>\n",
       "      <td>1</td>\n",
       "      <td>7</td>\n",
       "      <td>7</td>\n",
       "      <td>3</td>\n",
       "      <td>0.5</td>\n",
       "      <td>0.005000</td>\n",
       "      <td>0.000953</td>\n",
       "      <td>3</td>\n",
       "      <td>0.386221</td>\n",
       "    </tr>\n",
       "    <tr>\n",
       "      <th>2</th>\n",
       "      <td>100</td>\n",
       "      <td>1</td>\n",
       "      <td>7</td>\n",
       "      <td>7</td>\n",
       "      <td>3</td>\n",
       "      <td>0.3</td>\n",
       "      <td>0.006000</td>\n",
       "      <td>0.001000</td>\n",
       "      <td>3</td>\n",
       "      <td>0.400835</td>\n",
       "    </tr>\n",
       "  </tbody>\n",
       "</table>\n",
       "</div>"
      ],
      "text/plain": [
       "    epocas   NormPad   Linhas   Colunas   TamVizIni   TaxaAprendIni  \\\n",
       "4      100         1       13        13           3             0.3   \n",
       "11     200         1       13        13           3             0.5   \n",
       "9      100         1       13        13           3             0.5   \n",
       "3      100         1       11        11           3             0.3   \n",
       "12     200         1       13        13           3             0.3   \n",
       "15     100         2       13        13           3             0.3   \n",
       "8      100         1       11        11           3             0.5   \n",
       "16     300         2       11        11           5             0.4   \n",
       "7      100         1        7         7           3             0.5   \n",
       "2      100         1        7         7           3             0.3   \n",
       "\n",
       "     TaxaAprendFin   ErroQuant   K   MedAbsErro  \n",
       "4         0.003000    0.002409   3     0.294363  \n",
       "11        0.002500    0.000995   3     0.323591  \n",
       "9         0.005000    0.004614   3     0.325678  \n",
       "3         0.003000    0.000989   3     0.338205  \n",
       "12        0.001500    0.000866   3     0.338205  \n",
       "15        0.003000    0.021843   3     0.348643  \n",
       "8         0.005000    0.006178   3     0.348643  \n",
       "16        0.001333    0.004637   3     0.365344  \n",
       "7         0.005000    0.000953   3     0.386221  \n",
       "2         0.006000    0.001000   3     0.400835  "
      ]
     },
     "execution_count": 29,
     "metadata": {},
     "output_type": "execute_result"
    }
   ],
   "source": [
    "arquivo = pd.read_csv('../resultados/SOM/BaseTernariaDados.txt')\n",
    "arquivo = arquivo.sort_values(by=' MedAbsErro', ascending=True)\n",
    "arquivo.head(10)"
   ]
  },
  {
   "cell_type": "markdown",
   "metadata": {},
   "source": [
    "### Resultados"
   ]
  },
  {
   "cell_type": "code",
   "execution_count": 30,
   "metadata": {},
   "outputs": [
    {
     "name": "stdout",
     "output_type": "stream",
     "text": [
      "SOM - Erro de quantização: 0.0009658511143029206\n",
      "SOM - Épocas: 300\n",
      "SOM - Tamanho: 15 x 15\n",
      "SOM - Taxa de Aprendizado Inicial: 0.5\n",
      "SOM - Taxa de Aprendizado Final: 0.0016666666666666496\n",
      "KNN - Número de vizinhos: 7\n",
      "KNN - Média Absoluta do Erro: 0.6555323590814196\n"
     ]
    }
   ],
   "source": [
    "print(\"SOM - Erro de quantização: \"+ str(ErroQuantizacao))\n",
    "print(\"SOM - Épocas: \"+ str(epocas))\n",
    "print(\"SOM - Tamanho: \"+ str(linhas) + \" x \" + str(colunas))\n",
    "print(\"SOM - Taxa de Aprendizado Inicial: \"+ str(TaxaAprendIni))\n",
    "print(\"SOM - Taxa de Aprendizado Final: \"+ str(TaxaAprend))\n",
    "print(\"KNN - Número de vizinhos: \"+ str(k))\n",
    "print(\"KNN - Média Absoluta do Erro: \" + str(mediaErro))"
   ]
  },
  {
   "cell_type": "code",
   "execution_count": null,
   "metadata": {},
   "outputs": [],
   "source": []
  }
 ],
 "metadata": {
  "kernelspec": {
   "display_name": "Python 3",
   "language": "python",
   "name": "python3"
  },
  "language_info": {
   "codemirror_mode": {
    "name": "ipython",
    "version": 3
   },
   "file_extension": ".py",
   "mimetype": "text/x-python",
   "name": "python",
   "nbconvert_exporter": "python",
   "pygments_lexer": "ipython3",
   "version": "3.6.7"
  }
 },
 "nbformat": 4,
 "nbformat_minor": 2
}
