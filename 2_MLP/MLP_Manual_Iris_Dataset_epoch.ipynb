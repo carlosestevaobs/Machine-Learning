{
 "cells": [
  {
   "cell_type": "markdown",
   "metadata": {},
   "source": [
    "# Multilayer Perceptron -  Manual - Iris Dataset"
   ]
  },
  {
   "cell_type": "markdown",
   "metadata": {},
   "source": [
    "### Atualização dos pesos por época"
   ]
  },
  {
   "cell_type": "markdown",
   "metadata": {},
   "source": [
    "### Importação das bibliotecas necessárias"
   ]
  },
  {
   "cell_type": "code",
   "execution_count": 1,
   "metadata": {},
   "outputs": [],
   "source": [
    "import pandas as pd\n",
    "import numpy as np\n",
    "import matplotlib.pyplot as plt\n",
    "from sklearn.model_selection import train_test_split\n",
    "from sklearn.preprocessing import LabelEncoder"
   ]
  },
  {
   "cell_type": "markdown",
   "metadata": {},
   "source": [
    "### Carregamento da base"
   ]
  },
  {
   "cell_type": "code",
   "execution_count": 2,
   "metadata": {},
   "outputs": [],
   "source": [
    "base = pd.read_csv('iris.csv')\n",
    "entradas = base.iloc[:, 0:len(base.columns) -1].values \n",
    "classes = base.iloc[:,len(base.columns)-1].values\n",
    "NumColunas = len(base.columns) - 1"
   ]
  },
  {
   "cell_type": "markdown",
   "metadata": {},
   "source": [
    "### Padronização dos dados"
   ]
  },
  {
   "cell_type": "code",
   "execution_count": 3,
   "metadata": {},
   "outputs": [],
   "source": [
    "for i in range (len(base.columns)-1):\n",
    "    entradas[:,i] = (entradas[:,i] - np.median(entradas[:,i]))/entradas[:,i].std(axis = 0)"
   ]
  },
  {
   "cell_type": "markdown",
   "metadata": {},
   "source": [
    "### Transformação das classes para o tipo dummy"
   ]
  },
  {
   "cell_type": "code",
   "execution_count": 4,
   "metadata": {},
   "outputs": [],
   "source": [
    "labelEncoder = LabelEncoder()\n",
    "classes = labelEncoder.fit_transform(classes)\n",
    "\n",
    "classes_dummy = np.array(pd.get_dummies(classes))\n"
   ]
  },
  {
   "cell_type": "markdown",
   "metadata": {},
   "source": [
    "### Plotagem dos dados (colunas 1 e 2)"
   ]
  },
  {
   "cell_type": "code",
   "execution_count": 5,
   "metadata": {},
   "outputs": [
    {
     "data": {
      "text/plain": [
       "<matplotlib.collections.PathCollection at 0x216fe6dfdd8>"
      ]
     },
     "execution_count": 5,
     "metadata": {},
     "output_type": "execute_result"
    },
    {
     "data": {
      "image/png": "[encoded data removed]",
      "text/plain": [
       "<Figure size 432x288 with 1 Axes>"
      ]
     },
     "metadata": {
      "needs_background": "light"
     },
     "output_type": "display_data"
    }
   ],
   "source": [
    "x = base.iloc[:,1].values\n",
    "y = base.iloc[:,2].values\n",
    "\n",
    "color= ['red' if l == 1 else 'blue' if l == 2 else 'green' for l in classes]\n",
    "plt.scatter(x, y, color=color)"
   ]
  },
  {
   "cell_type": "markdown",
   "metadata": {},
   "source": [
    "### Divisão da base em treinamento (80%) e teste (20%)"
   ]
  },
  {
   "cell_type": "code",
   "execution_count": 6,
   "metadata": {},
   "outputs": [],
   "source": [
    "entradas_trei, entradas_test, classes_trei, classes_test = train_test_split(entradas, classes_dummy, test_size=0.20)"
   ]
  },
  {
   "cell_type": "markdown",
   "metadata": {},
   "source": [
    "### Métodos e demais variáveis necessárias"
   ]
  },
  {
   "cell_type": "code",
   "execution_count": 7,
   "metadata": {},
   "outputs": [],
   "source": [
    "def unique(list1):   \n",
    "    unique_list = [] \n",
    "    for x in list1: \n",
    "        if x not in unique_list: \n",
    "            unique_list.append(x) \n",
    "    return x"
   ]
  },
  {
   "cell_type": "code",
   "execution_count": 8,
   "metadata": {},
   "outputs": [],
   "source": [
    "def funcaoAtivacao(soma):\n",
    "    # Logística\n",
    "    return 1/(1 + np.exp(-soma))\n",
    "    # Tangente Hiperbólica\n",
    "    # return (1 - np.exp(-soma)/(1 + np.exp(-soma)))"
   ]
  },
  {
   "cell_type": "code",
   "execution_count": 9,
   "metadata": {},
   "outputs": [],
   "source": [
    "def derivadaParcial(camadaSaida):\n",
    "    # Logística\n",
    "    return camadaSaida * (1 - camadaSaida)\n",
    "    # Tangente Hiperbólica\n",
    "    # return 1/2 * (1 - (camadaSaida)**2)"
   ]
  },
  {
   "cell_type": "code",
   "execution_count": 10,
   "metadata": {},
   "outputs": [
    {
     "name": "stdout",
     "output_type": "stream",
     "text": [
      "Neurônios na camada oculta 5\n",
      "Neurônios na camada de saída 3\n"
     ]
    }
   ],
   "source": [
    "epocas = 10000\n",
    "NeuroniosCamadaOculta = 5\n",
    "NumClasses = unique(classes) + 1\n",
    "PesoBiasOculta = np.dot((-0.5 + (0.5 + 0.5)), np.random.random((NeuroniosCamadaOculta,1)))\n",
    "pesos0 = np.dot((-0.5 + (0.5 + 0.5)), np.random.random((NumColunas,NeuroniosCamadaOculta)))\n",
    "pesos1 = np.dot((-0.5 + (0.5 + 0.5)), np.random.random((NeuroniosCamadaOculta, NumClasses)))\n",
    "momento = 0.9\n",
    "taxaAprendOcul = 0.5\n",
    "taxaAprendSai = 0.3\n",
    "\n",
    "print('Neurônios na camada oculta '+ str(NeuroniosCamadaOculta))\n",
    "print('Neurônios na camada de saída '+ str(NumClasses))"
   ]
  },
  {
   "cell_type": "markdown",
   "metadata": {},
   "source": [
    "## Treinamento"
   ]
  },
  {
   "cell_type": "markdown",
   "metadata": {},
   "source": [
    "### Atualização dos pesos somente após passar por todas as entradas"
   ]
  },
  {
   "cell_type": "code",
   "execution_count": 11,
   "metadata": {},
   "outputs": [
    {
     "name": "stdout",
     "output_type": "stream",
     "text": [
      "Média Absoluta do Erro: 0.21031435969618278\n"
     ]
    }
   ],
   "source": [
    "for i in range(epocas):\n",
    "    camadaEntrada = entradas_trei\n",
    "    # somatório da camada de entrada e camada oculta\n",
    "    somaSinapse0 = np.dot(camadaEntrada, pesos0)\n",
    "    # valores para a camada oculta\n",
    "    camadaOculta = funcaoAtivacao(somaSinapse0 + PesoBiasOculta.T)\n",
    "    # somatório da camada oculta para a camada de saída\n",
    "    somaSinpase1 = np.dot(camadaOculta, pesos1)\n",
    "    # valores para a camada saída\n",
    "    camadaSaida = funcaoAtivacao(somaSinpase1)\n",
    "        \n",
    "    # cálculo do erro\n",
    "    erroCamadaSaida = classes_trei - camadaSaida\n",
    "    \n",
    "    # Média absoluta do erro\n",
    "    mediaErro = np.mean(np.abs(erroCamadaSaida))\n",
    " \n",
    "    # derivada da camada de saída\n",
    "    derivadaSaida = derivadaParcial(camadaSaida)\n",
    "    \n",
    "    # cálculo do delta afim de encontrar a melhor combinação de pesos\n",
    "    deltaSaida = erroCamadaSaida * derivadaSaida\n",
    "    \n",
    "    # Delta da camada oculta = derivada * peso * deltaSaida\n",
    "    pesos1T = pesos1.T\n",
    "    deltaSaidaPeso = deltaSaida.dot(pesos1T)\n",
    "    deltaOculta = deltaSaidaPeso * derivadaParcial(camadaOculta)\n",
    "    \n",
    "    # BackPropagation - \n",
    "    # atualização dos pesos da camada de Saída (oculta --> saída)\n",
    "    camadaOcultaT = camadaOculta.T\n",
    "    pesosN1 = camadaOcultaT.dot(deltaSaida)\n",
    "    pesos1 = (pesos1 * momento) + (pesosN1 * taxaAprendSai) \n",
    "    \n",
    "    # Atualização dos pesos da camada oculta (entrada --> oculta)\n",
    "    camadaEntradaT = camadaEntrada.T\n",
    "    pesosN0 = camadaEntradaT.dot(deltaOculta)\n",
    "    pesos0 = (pesos0 * momento) + (pesosN0 * taxaAprendOcul)\n",
    "\n",
    "print(\"Média Absoluta do Erro: \"+ str(mediaErro))"
   ]
  },
  {
   "cell_type": "code",
   "execution_count": null,
   "metadata": {},
   "outputs": [],
   "source": []
  },
  {
   "cell_type": "markdown",
   "metadata": {},
   "source": [
    "### Organização das Saídas para plotagem da Matriz de Confusão"
   ]
  },
  {
   "cell_type": "code",
   "execution_count": 12,
   "metadata": {},
   "outputs": [
    {
     "name": "stdout",
     "output_type": "stream",
     "text": [
      "[2, 2, 1, 2, 2, 2, 0, 2, 0, 2, 0, 0, 1, 0, 1, 0, 2, 2, 1, 1, 1, 2, 0, 1, 1, 0, 1, 0, 0, 2, 0, 0, 2, 1, 0, 1, 2, 2, 2, 0, 1, 0, 0, 0, 0, 2, 1, 2, 2, 0, 1, 2, 1, 1, 2, 1, 2, 2, 0, 0, 0, 1, 2, 1, 1, 2, 1, 2, 0, 0, 0, 2, 0, 0, 0, 2, 2, 1, 2, 1, 2, 2, 0, 1, 2, 2, 2, 2, 2, 1, 1, 0, 1, 1, 2, 0, 1, 0, 2, 2, 2, 0, 0, 1, 0, 1, 1, 0, 2, 1, 2, 2, 1, 1, 1, 2, 1, 0, 2, 1]\n"
     ]
    }
   ],
   "source": [
    "classesN = [np.argmax(t) for t in classes_trei]\n",
    "\n",
    "print(classesN)"
   ]
  },
  {
   "cell_type": "code",
   "execution_count": 13,
   "metadata": {},
   "outputs": [
    {
     "name": "stdout",
     "output_type": "stream",
     "text": [
      "[2, 2, 1, 2, 2, 2, 0, 2, 0, 2, 0, 0, 1, 0, 1, 0, 2, 2, 1, 2, 1, 2, 0, 1, 1, 0, 1, 0, 0, 2, 0, 0, 2, 1, 0, 2, 2, 2, 2, 0, 1, 0, 0, 0, 0, 2, 2, 2, 2, 0, 1, 2, 0, 1, 2, 2, 2, 2, 0, 0, 0, 1, 2, 2, 0, 2, 1, 2, 0, 0, 0, 2, 0, 0, 0, 2, 2, 0, 1, 1, 2, 2, 0, 1, 2, 2, 2, 2, 2, 1, 1, 0, 1, 1, 2, 0, 2, 0, 2, 2, 2, 0, 0, 1, 0, 1, 1, 0, 2, 1, 2, 2, 2, 1, 1, 2, 2, 0, 2, 1]\n"
     ]
    }
   ],
   "source": [
    "SaidasCalcTrein =  [np.argmax(t) for t in camadaSaida]\n",
    "print(SaidasCalcTrein)"
   ]
  },
  {
   "cell_type": "code",
   "execution_count": 14,
   "metadata": {},
   "outputs": [],
   "source": [
    "from sklearn.metrics import confusion_matrix\n",
    "import matplotlib.pyplot as plt\n",
    "import itertools\n",
    "\n",
    "def plot_confusion_matrix(cm, classes,\n",
    "                          normalize=False,\n",
    "                          title='Matriz de Confusão',\n",
    "                          cmap=plt.cm.Blues):   \n",
    "\n",
    "    plt.imshow(cm, interpolation='nearest', cmap=cmap)\n",
    "    plt.title(title)\n",
    "    plt.colorbar()\n",
    "    tick_marks = np.arange(len(classes))\n",
    "    plt.xticks(tick_marks, classes, rotation=45)\n",
    "    plt.yticks(tick_marks, classes)\n",
    "\n",
    "    fmt = '.2f' if normalize else 'd'\n",
    "    thresh = cm.max() / 2.\n",
    "    for i, j in itertools.product(range(cm.shape[0]), range(cm.shape[1])):\n",
    "        plt.text(j, i, format(cm[i, j], fmt),\n",
    "                 horizontalalignment=\"center\",\n",
    "                 color=\"white\" if cm[i, j] > thresh else \"black\")\n",
    "\n",
    "    plt.tight_layout()\n",
    "    plt.ylabel('Saída correta')\n",
    "    plt.xlabel('Saída encontrada')    "
   ]
  },
  {
   "cell_type": "code",
   "execution_count": 15,
   "metadata": {},
   "outputs": [
    {
     "data": {
      "image/png": "[encoded data removed]",
      "text/plain": [
       "<Figure size 432x288 with 2 Axes>"
      ]
     },
     "metadata": {
      "needs_background": "light"
     },
     "output_type": "display_data"
    }
   ],
   "source": [
    "cm = confusion_matrix(classesN, SaidasCalcTrein)\n",
    "plot_confusion_matrix(cm, \n",
    "                      classes=['0', '1', '2'],\n",
    "                      title='Matriz de Confusão')"
   ]
  },
  {
   "cell_type": "markdown",
   "metadata": {},
   "source": [
    "## Testes"
   ]
  },
  {
   "cell_type": "code",
   "execution_count": 16,
   "metadata": {},
   "outputs": [
    {
     "name": "stdout",
     "output_type": "stream",
     "text": [
      "Média Absoluta do Erro: 0.2645092306636493\n"
     ]
    }
   ],
   "source": [
    "camadaEntrada = entradas_test\n",
    "# somatório da camada de entrada e camada oculta\n",
    "somaSinapse0 = np.dot(camadaEntrada, pesos0)\n",
    "# valores para a camada oculta\n",
    "camadaOculta = funcaoAtivacao(somaSinapse0)\n",
    "# somatório da camada oculta para a camada de saída\n",
    "somaSinpase1 = np.dot(camadaOculta, pesos1)\n",
    "# valores para a camada saída\n",
    "camadaSaida = funcaoAtivacao(somaSinpase1)\n",
    "\n",
    "# cálculo do erro\n",
    "erroCamadaSaida = classes_test - camadaSaida\n",
    "    \n",
    "# Média absoluta do erro\n",
    "mediaErro = np.mean(np.abs(erroCamadaSaida))\n",
    "print(\"Média Absoluta do Erro: \"+ str(mediaErro))"
   ]
  },
  {
   "cell_type": "markdown",
   "metadata": {},
   "source": [
    "### Organização das Saídas para plotagem da Matriz de Confusão"
   ]
  },
  {
   "cell_type": "code",
   "execution_count": 17,
   "metadata": {},
   "outputs": [
    {
     "name": "stdout",
     "output_type": "stream",
     "text": [
      "[2, 0, 1, 0, 1, 2, 0, 0, 1, 1, 1, 0, 0, 1, 0, 1, 2, 0, 0, 2, 1, 2, 0, 1, 1, 1, 0, 0, 1, 0]\n"
     ]
    }
   ],
   "source": [
    "classesN = [np.argmax(t) for t in classes_test]\n",
    "print(classesN)"
   ]
  },
  {
   "cell_type": "code",
   "execution_count": 18,
   "metadata": {},
   "outputs": [
    {
     "name": "stdout",
     "output_type": "stream",
     "text": [
      "[2, 0, 1, 0, 2, 2, 0, 0, 2, 2, 1, 0, 0, 2, 0, 2, 2, 0, 0, 2, 1, 2, 0, 2, 2, 1, 0, 0, 2, 0]\n"
     ]
    }
   ],
   "source": [
    "SaidasCalcTest =  [np.argmax(t) for t in camadaSaida]\n",
    "print(SaidasCalcTest)"
   ]
  },
  {
   "cell_type": "code",
   "execution_count": 19,
   "metadata": {},
   "outputs": [
    {
     "data": {
      "image/png": "[encoded data removed]",
      "text/plain": [
       "<Figure size 432x288 with 2 Axes>"
      ]
     },
     "metadata": {
      "needs_background": "light"
     },
     "output_type": "display_data"
    }
   ],
   "source": [
    "cm = confusion_matrix(classesN, SaidasCalcTest)\n",
    "plot_confusion_matrix(cm, \n",
    "                      classes=['0', '1', '2'],\n",
    "                      title='Matriz de Confusão')"
   ]
  },
  {
   "cell_type": "code",
   "execution_count": null,
   "metadata": {},
   "outputs": [],
   "source": []
  },
  {
   "cell_type": "code",
   "execution_count": null,
   "metadata": {},
   "outputs": [],
   "source": []
  }
 ],
 "metadata": {
  "kernelspec": {
   "display_name": "Python 3",
   "language": "python",
   "name": "python3"
  },
  "language_info": {
   "codemirror_mode": {
    "name": "ipython",
    "version": 3
   },
   "file_extension": ".py",
   "mimetype": "text/x-python",
   "name": "python",
   "nbconvert_exporter": "python",
   "pygments_lexer": "ipython3",
   "version": "3.6.7"
  }
 },
 "nbformat": 4,
 "nbformat_minor": 2
}
