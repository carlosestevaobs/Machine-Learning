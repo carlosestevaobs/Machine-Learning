{
 "cells": [
  {
   "cell_type": "markdown",
   "metadata": {},
   "source": [
    "# Multilayer Perceptron -  Manual - Iris Dataset"
   ]
  },
  {
   "cell_type": "markdown",
   "metadata": {},
   "source": [
    "### Atualização dos pesos por iteração"
   ]
  },
  {
   "cell_type": "markdown",
   "metadata": {},
   "source": [
    "### Importação das bibliotecas necessárias"
   ]
  },
  {
   "cell_type": "code",
   "execution_count": 1,
   "metadata": {},
   "outputs": [],
   "source": [
    "import pandas as pd\n",
    "from random import randint\n",
    "import numpy as np\n",
    "import matplotlib.pyplot as plt\n",
    "from sklearn.model_selection import train_test_split\n",
    "from sklearn.preprocessing import LabelEncoder\n",
    "from sklearn.preprocessing import LabelBinarizer"
   ]
  },
  {
   "cell_type": "markdown",
   "metadata": {},
   "source": [
    "### Carregamento da base"
   ]
  },
  {
   "cell_type": "code",
   "execution_count": 2,
   "metadata": {},
   "outputs": [],
   "source": [
    "base = pd.read_csv('iris.csv')\n",
    "entradas = base.iloc[:, 0:len(base.columns) -1].values \n",
    "classes = base.iloc[:,len(base.columns)-1].values\n",
    "NumColunas = len(base.columns) - 1"
   ]
  },
  {
   "cell_type": "markdown",
   "metadata": {},
   "source": [
    "### Padronização dos dados"
   ]
  },
  {
   "cell_type": "code",
   "execution_count": 3,
   "metadata": {},
   "outputs": [],
   "source": [
    "for i in range (len(base.columns)-1):\n",
    "    entradas[:,i] = (entradas[:,i] - np.median(entradas[:,i]))/entradas[:,i].std(axis = 0)"
   ]
  },
  {
   "cell_type": "markdown",
   "metadata": {},
   "source": [
    "### Transformação das classes para o tipo dummy"
   ]
  },
  {
   "cell_type": "code",
   "execution_count": 4,
   "metadata": {},
   "outputs": [],
   "source": [
    "labelEncoder = LabelEncoder()\n",
    "classes = labelEncoder.fit_transform(classes)\n",
    "classes_dummy = np.array(pd.get_dummies(classes))"
   ]
  },
  {
   "cell_type": "markdown",
   "metadata": {},
   "source": [
    "### Plotagem dos dados (colunas 1 e 2)"
   ]
  },
  {
   "cell_type": "code",
   "execution_count": 24,
   "metadata": {},
   "outputs": [
    {
     "data": {
      "text/plain": [
       "<matplotlib.collections.PathCollection at 0x21e26ec9940>"
      ]
     },
     "execution_count": 24,
     "metadata": {},
     "output_type": "execute_result"
    },
    {
     "data": {
      "image/png": "[encoded data removed]",
      "text/plain": [
       "<Figure size 432x288 with 1 Axes>"
      ]
     },
     "metadata": {
      "needs_background": "light"
     },
     "output_type": "display_data"
    }
   ],
   "source": [
    "x = base.iloc[:,1].values\n",
    "y = base.iloc[:,2].values\n",
    "\n",
    "color= ['red' if l == 1 else 'blue' if l == 2 else 'green' for l in classes]\n",
    "plt.scatter(x, y, color=color)"
   ]
  },
  {
   "cell_type": "markdown",
   "metadata": {},
   "source": [
    "### Divisão da base em treinamento (80%) e teste (20%)"
   ]
  },
  {
   "cell_type": "code",
   "execution_count": 6,
   "metadata": {},
   "outputs": [],
   "source": [
    "entradas_trei, entradas_test, classes_trei, classes_test = train_test_split(entradas, classes_dummy, test_size=0.20)"
   ]
  },
  {
   "cell_type": "markdown",
   "metadata": {},
   "source": [
    "### Métodos e demais variáveis necessárias"
   ]
  },
  {
   "cell_type": "code",
   "execution_count": 7,
   "metadata": {},
   "outputs": [],
   "source": [
    "def unique(list1):   \n",
    "    unique_list = [] \n",
    "    for x in list1: \n",
    "        if x not in unique_list: \n",
    "            unique_list.append(x) \n",
    "    return x"
   ]
  },
  {
   "cell_type": "code",
   "execution_count": 8,
   "metadata": {},
   "outputs": [],
   "source": [
    "def funcaoAtivacao(soma, Usu_func):\n",
    "    if (Usu_func == 1):\n",
    "        return 1/(1 + np.exp(-soma))\n",
    "    if (Usu_func == 2):\n",
    "        return ((1 - np.exp(-soma))/(1 + np.exp(-soma)))\n",
    "    return 0"
   ]
  },
  {
   "cell_type": "code",
   "execution_count": 9,
   "metadata": {},
   "outputs": [],
   "source": [
    "def derivadaParcial(camadaSaida, Usu_func):\n",
    "    if (Usu_func == 1):\n",
    "        return camadaSaida * (1 - camadaSaida)\n",
    "    if (Usu_func == 2):\n",
    "        return 1/2 * (1 - (camadaSaida)**2)"
   ]
  },
  {
   "cell_type": "code",
   "execution_count": 10,
   "metadata": {},
   "outputs": [],
   "source": [
    "def decacimentoTaxaAprend(realizar, tipo, taxaAprendIni, iteracaoAtual, NumIteracoes):\n",
    "    if (realizar == 1):\n",
    "        if (tipo == 1):\n",
    "            # Linear\n",
    "            return taxaAprendIni * (1 - (iteracaoAtual/NumIteracoes))            \n",
    "        elif (tipo == 2):\n",
    "            # Exponencial\n",
    "             return taxaAprendIni/(1 + iteracaoAtual)  \n",
    "    else:\n",
    "        return taxaAprendIni\n",
    "    "
   ]
  },
  {
   "cell_type": "markdown",
   "metadata": {},
   "source": [
    "## Dados do usuário"
   ]
  },
  {
   "cell_type": "code",
   "execution_count": 11,
   "metadata": {},
   "outputs": [
    {
     "name": "stdout",
     "output_type": "stream",
     "text": [
      "Digite a quantidade de épocas: 100\n",
      "Digite a taxa de aprendizado da camada oculta: 0.5\n",
      "Deseja realizar decaimento da taxa de aprendizagem da camada Oculta? (1 - Sim ou 2 - Não): 2\n",
      "Digite a taxa de aprendizado da camada de saída: 0.5\n",
      "Deseja realizar decaimento da taxa de aprendizagem da camada de Saída? (1 - Sim ou 2 - Não): 2\n",
      "\u001b[1mDigite a quantidade de Neurônios da camada oculta: \n",
      "1- Regra do Valor Médio\n",
      "2- Regra de Kolmogorov\n",
      "3- Regra de Fletcher-Gloss\n",
      "4- Regra da Raiz quadrada\n",
      "5- Inserir um valor manualmente\n",
      "2\n",
      "9\n",
      "\u001b[1mFunção de ativação: \n",
      "1- Logística\n",
      "2- Tangente Hiperbólica\n",
      "Digite o valor: 1\n"
     ]
    }
   ],
   "source": [
    "NumClasses = unique(classes) + 1\n",
    "epocas = int(input('\\033[1m' + \"Digite a quantidade de épocas: \"))\n",
    "taxaAprendOcul = float(input('\\033[1m' + \"Digite a taxa de aprendizado da camada oculta: \"))\n",
    "taxaAprendOculIni = taxaAprendOcul\n",
    "decaimentoOcul = int(input('\\033[1m' + \"Deseja realizar decaimento da taxa de aprendizagem da camada Oculta? (1 - Sim ou 2 - Não): \"))\n",
    "if (decaimentoOcul == 1):\n",
    "    print('\\033[1m' + \"Digite: \")\n",
    "    print('\\033[1m' + \"1- Decaimento Linear: \")\n",
    "    print('\\033[1m' + \"2- Decaimento exponencial: \")\n",
    "    tipoDecaimentoOcul = int(input(\"\"))\n",
    "else:\n",
    "    tipoDecaimentoOcul = 0\n",
    "taxaAprendSai = float(input('\\033[1m' + \"Digite a taxa de aprendizado da camada de saída: \"))\n",
    "taxaAprendSaiIni = taxaAprendSai\n",
    "decaimentoSai = int(input('\\033[1m' + \"Deseja realizar decaimento da taxa de aprendizagem da camada de Saída? (1 - Sim ou 2 - Não): \"))\n",
    "if (decaimentoSai == 1):\n",
    "    print('\\033[1m' + \"Digite: \")\n",
    "    print('\\033[1m' + \"1- Decaimento Linear: \")\n",
    "    print('\\033[1m' + \"2- Decaimento exponencial: \")\n",
    "    tipoDecaimentoSai = int(input(\"\"))\n",
    "else:\n",
    "    tipoDecaimentoSai = 0\n",
    "print('\\033[1m' + \"Digite a quantidade de Neurônios da camada oculta: \")\n",
    "print(\"1- Regra do Valor Médio\")\n",
    "print(\"2- Regra de Kolmogorov\")\n",
    "print(\"3- Regra de Fletcher-Gloss\")\n",
    "print(\"4- Regra da Raiz quadrada\")\n",
    "print(\"5- Inserir um valor manualmente\")\n",
    "escolha = int(input(\"\"))\n",
    "if (escolha == 1):\n",
    "        # Regra do valor médio\n",
    "        qtde =  int((NumClasses + NumColunas)/2)\n",
    "if (escolha == 2):\n",
    "        # Regra de Kolmogorov\n",
    "        qtde =  int((2 * NumColunas) + 1)\n",
    "if (escolha == 3):\n",
    "        # Regra de Fletcher-Gloss\n",
    "        a = int((2* (NumColunas ** (1/2)) + NumClasses))\n",
    "        b = 2 * NumColunas + 1\n",
    "        qtde = int(randint(a, b))      \n",
    "if (escolha == 4):\n",
    "        # Regra da raiz quadrada\n",
    "        qtde = int((NumClasses * NumColunas)**(1/2))\n",
    "if (escolha == 5):\n",
    "        qtde = int(input(\"Digite a quantidade de neurônios que deseja inserir\"))\n",
    "NeuroniosCamadaOculta = qtde\n",
    "print(NeuroniosCamadaOculta)\n",
    "print('\\033[1m' + \"Função de ativação: \")\n",
    "print(\"1- Logística\")\n",
    "print(\"2- Tangente Hiperbólica\")\n",
    "Usu_func = int(input(\"Digite o valor: \"))\n"
   ]
  },
  {
   "cell_type": "code",
   "execution_count": 12,
   "metadata": {},
   "outputs": [],
   "source": [
    "PesoBiasOculta = np.dot((-0.5 + (0.5 + 0.5)), np.random.random((NeuroniosCamadaOculta,1)))\n",
    "\n",
    "pesos0 = np.dot((-0.5 + (0.5 + 0.5)), np.random.random((NumColunas,NeuroniosCamadaOculta)))\n",
    "pesos1 = np.dot((-0.5 + (0.5 + 0.5)), np.random.random((NeuroniosCamadaOculta, NumClasses)))\n",
    "lb_style = LabelBinarizer()\n",
    "classes_trei = lb_style.fit_transform(classes_trei)\n",
    "num_entradas_trei = len(entradas_trei)\n",
    "camadaSaida = np.zeros((num_entradas_trei, NumClasses))"
   ]
  },
  {
   "cell_type": "markdown",
   "metadata": {},
   "source": [
    "## Treinamento"
   ]
  },
  {
   "cell_type": "code",
   "execution_count": 13,
   "metadata": {},
   "outputs": [
    {
     "name": "stdout",
     "output_type": "stream",
     "text": [
      "Erro Médio: 0.11620010428609286\n"
     ]
    },
    {
     "data": {
      "text/plain": [
       "[<matplotlib.lines.Line2D at 0x21e26c859b0>]"
      ]
     },
     "execution_count": 13,
     "metadata": {},
     "output_type": "execute_result"
    },
    {
     "data": {
      "image/png": "[encoded data removed]",
      "text/plain": [
       "<Figure size 432x288 with 1 Axes>"
      ]
     },
     "metadata": {
      "needs_background": "light"
     },
     "output_type": "display_data"
    }
   ],
   "source": [
    "mediaErro = np.zeros(epocas)\n",
    "Erro = np.zeros(num_entradas_trei)\n",
    "for i in range(epocas):\n",
    " #   print(\"Época: \"+ str(i))    \n",
    "    for j in range(num_entradas_trei):     \n",
    "        # Feed Foward\n",
    "        entrada = entradas_trei[j].reshape(1,NumColunas)\n",
    "        somaSinapse0 = np.dot(entrada, pesos0)        \n",
    "        camadaOculta = funcaoAtivacao(somaSinapse0 - PesoBiasOculta.T, Usu_func)  \n",
    "        soma = np.dot(camadaOculta, pesos1)\n",
    "        camadaSaida[j]  = funcaoAtivacao(soma, Usu_func)\n",
    "\n",
    "        # Back Propagation\n",
    "        erroCamadaSaida = classes_trei[j] - camadaSaida[j]\n",
    "        Erro[j] =  np.mean(np.abs(erroCamadaSaida))\n",
    "        \n",
    "        derivadaSaida  = derivadaParcial(camadaSaida[j], Usu_func)\n",
    "        GradienteSaida = derivadaSaida * erroCamadaSaida\n",
    "        GradienteSaida = GradienteSaida.reshape(1,NumClasses) \n",
    "        pesos1 = pesos1 + taxaAprendSai * camadaOculta.T * GradienteSaida \n",
    "        DerivadaOculta = derivadaParcial(camadaOculta, Usu_func)\n",
    "        GradienteOculta = (DerivadaOculta.T * (np.dot(pesos1, GradienteSaida.T)))\n",
    "        pesos0 = pesos0 + taxaAprendOcul * (entrada.T * GradienteOculta.T);\n",
    "        \n",
    "        # Decaimento da taxa de Aprendizagem\n",
    "        taxaAprendOcul = decacimentoTaxaAprend(decaimentoOcul, tipoDecaimentoOcul, taxaAprendOculIni, j, num_entradas_trei)\n",
    "        taxaAprendSai = decacimentoTaxaAprend(decaimentoSai, tipoDecaimentoSai, taxaAprendSaiIni, j, num_entradas_trei)\n",
    "                \n",
    "    mediaErro[i] = np.mean(np.abs(Erro))    \n",
    "print(\"Erro Médio: \"+ str(np.mean(np.abs(mediaErro))))\n",
    "plt.plot(mediaErro)"
   ]
  },
  {
   "cell_type": "markdown",
   "metadata": {},
   "source": [
    "### Organização das Saídas para plotagem da Matriz de Confusão"
   ]
  },
  {
   "cell_type": "code",
   "execution_count": 14,
   "metadata": {},
   "outputs": [
    {
     "name": "stdout",
     "output_type": "stream",
     "text": [
      "[2, 0, 1, 1, 1, 2, 1, 1, 0, 0, 1, 2, 2, 0, 0, 2, 1, 2, 1, 1, 1, 2, 2, 2, 1, 2, 0, 1, 2, 0, 0, 1, 1, 1, 1, 2, 2, 0, 1, 0, 1, 0, 1, 0, 0, 1, 1, 1, 2, 2, 2, 2, 2, 2, 2, 1, 0, 1, 1, 0, 0, 0, 1, 0, 0, 2, 0, 2, 1, 2, 0, 2, 2, 1, 1, 2, 0, 0, 0, 0, 1, 1, 0, 2, 1, 0, 2, 1, 2, 1, 2, 2, 2, 2, 2, 2, 1, 0, 2, 0, 1, 2, 0, 1, 0, 0, 0, 1, 1, 1, 0, 1, 2, 1, 0, 2, 0, 0, 0, 0]\n"
     ]
    }
   ],
   "source": [
    "classesN = [np.argmax(t) for t in classes_trei]\n",
    "print(classesN)"
   ]
  },
  {
   "cell_type": "code",
   "execution_count": 15,
   "metadata": {},
   "outputs": [
    {
     "name": "stdout",
     "output_type": "stream",
     "text": [
      "[2, 0, 1, 1, 2, 2, 1, 1, 0, 0, 1, 2, 2, 0, 0, 2, 1, 2, 1, 1, 1, 2, 2, 2, 1, 2, 0, 1, 2, 0, 0, 1, 1, 1, 1, 2, 2, 0, 1, 0, 1, 0, 2, 0, 0, 1, 1, 1, 2, 2, 2, 2, 2, 2, 2, 1, 0, 1, 1, 0, 0, 0, 1, 0, 0, 2, 0, 2, 1, 2, 0, 2, 2, 1, 1, 2, 0, 0, 0, 0, 1, 1, 0, 2, 1, 0, 2, 1, 2, 2, 2, 2, 2, 2, 2, 2, 1, 0, 2, 0, 1, 2, 0, 1, 0, 0, 0, 1, 1, 1, 0, 1, 2, 1, 0, 2, 0, 0, 0, 0]\n"
     ]
    }
   ],
   "source": [
    "SaidasCalcTrein =  [np.argmax(t) for t in camadaSaida]\n",
    "print(SaidasCalcTrein)"
   ]
  },
  {
   "cell_type": "code",
   "execution_count": 16,
   "metadata": {},
   "outputs": [],
   "source": [
    "from sklearn.metrics import confusion_matrix\n",
    "import matplotlib.pyplot as plt\n",
    "import itertools\n",
    "\n",
    "def plot_confusion_matrix(cm, classes,\n",
    "                          normalize=False,\n",
    "                          title='Matriz de Confusão',\n",
    "                          cmap=plt.cm.Blues):   \n",
    "\n",
    "    plt.imshow(cm, interpolation='nearest', cmap=cmap)\n",
    "    plt.title(title)\n",
    "    plt.colorbar()\n",
    "    tick_marks = np.arange(len(classes))\n",
    "    plt.xticks(tick_marks, classes, rotation=45)\n",
    "    plt.yticks(tick_marks, classes)\n",
    "\n",
    "    fmt = '.2f' if normalize else 'd'\n",
    "    thresh = cm.max() / 2.\n",
    "    for i, j in itertools.product(range(cm.shape[0]), range(cm.shape[1])):\n",
    "        plt.text(j, i, format(cm[i, j], fmt),\n",
    "                 horizontalalignment=\"center\",\n",
    "                 color=\"white\" if cm[i, j] > thresh else \"black\")\n",
    "\n",
    "    plt.tight_layout()\n",
    "    plt.ylabel('Saída correta')\n",
    "    plt.xlabel('Saída encontrada')    "
   ]
  },
  {
   "cell_type": "code",
   "execution_count": 17,
   "metadata": {},
   "outputs": [
    {
     "data": {
      "image/png": "[encoded data removed]",
      "text/plain": [
       "<Figure size 432x288 with 2 Axes>"
      ]
     },
     "metadata": {
      "needs_background": "light"
     },
     "output_type": "display_data"
    }
   ],
   "source": [
    "cm = confusion_matrix(classesN, SaidasCalcTrein)\n",
    "plot_confusion_matrix(cm, \n",
    "                      classes=['0', '1', '3'],\n",
    "                      title='Matriz de Confusão')"
   ]
  },
  {
   "cell_type": "code",
   "execution_count": 18,
   "metadata": {},
   "outputs": [
    {
     "data": {
      "text/plain": [
       "<matplotlib.collections.PathCollection at 0x21e26d95048>"
      ]
     },
     "execution_count": 18,
     "metadata": {},
     "output_type": "execute_result"
    },
    {
     "data": {
      "image/png": "[encoded data removed]",
      "text/plain": [
       "<Figure size 432x288 with 1 Axes>"
      ]
     },
     "metadata": {
      "needs_background": "light"
     },
     "output_type": "display_data"
    }
   ],
   "source": [
    "cores = np.array(['green', 'red', 'blue'])\n",
    "\n",
    "x = entradas_trei[:,1]\n",
    "y = entradas_trei[:,2]\n",
    "\n",
    "plt.scatter(x, y, color= cores[SaidasCalcTrein]) "
   ]
  },
  {
   "cell_type": "markdown",
   "metadata": {},
   "source": [
    "## Testes"
   ]
  },
  {
   "cell_type": "code",
   "execution_count": 19,
   "metadata": {},
   "outputs": [
    {
     "name": "stdout",
     "output_type": "stream",
     "text": [
      "Média Absoluta do Erro: 0.09977455974375071\n"
     ]
    }
   ],
   "source": [
    "num_entradas_test = len(entradas_test)\n",
    "camadaSaidaTest = np.zeros((num_entradas_test, NumClasses))\n",
    "\n",
    "for j in range(num_entradas_test):     \n",
    "    # Feed Foward\n",
    "    entrada = entradas_test[j].reshape(1,NumColunas)\n",
    "    somaSinapse0 = np.dot(entrada, pesos0)        \n",
    "    camadaOculta = funcaoAtivacao(somaSinapse0 + PesoBiasOculta.T, Usu_func)        \n",
    "    camadaSaidaTest[j]  = funcaoAtivacao(np.dot(camadaOculta, pesos1), Usu_func)\n",
    "    \n",
    "# cálculo do erro\n",
    "erroCamadaSaida = classes_test - camadaSaidaTest\n",
    "\n",
    "# Média absoluta do erro\n",
    "mediaErro = np.mean(np.abs(erroCamadaSaida))\n",
    "print(\"Média Absoluta do Erro: \"+ str(mediaErro))"
   ]
  },
  {
   "cell_type": "markdown",
   "metadata": {},
   "source": [
    "### Organização das Saídas para plotagem da Matriz de Confusão"
   ]
  },
  {
   "cell_type": "code",
   "execution_count": 20,
   "metadata": {},
   "outputs": [],
   "source": [
    "classesN = [np.argmax(t) for t in classes_test]"
   ]
  },
  {
   "cell_type": "code",
   "execution_count": 21,
   "metadata": {},
   "outputs": [],
   "source": [
    "SaidasCalcTest =  [np.argmax(t) for t in camadaSaidaTest]"
   ]
  },
  {
   "cell_type": "code",
   "execution_count": 22,
   "metadata": {},
   "outputs": [
    {
     "data": {
      "image/png": "[encoded data removed]",
      "text/plain": [
       "<Figure size 432x288 with 2 Axes>"
      ]
     },
     "metadata": {
      "needs_background": "light"
     },
     "output_type": "display_data"
    }
   ],
   "source": [
    "cm = confusion_matrix(classesN, SaidasCalcTest)\n",
    "plot_confusion_matrix(cm, \n",
    "                      classes=['0', '1', '2'],\n",
    "                      title='Matriz de Confusão')"
   ]
  },
  {
   "cell_type": "code",
   "execution_count": 23,
   "metadata": {},
   "outputs": [
    {
     "data": {
      "text/plain": [
       "<matplotlib.collections.PathCollection at 0x21e26e71e48>"
      ]
     },
     "execution_count": 23,
     "metadata": {},
     "output_type": "execute_result"
    },
    {
     "data": {
      "image/png": "[encoded data removed]",
      "text/plain": [
       "<Figure size 432x288 with 1 Axes>"
      ]
     },
     "metadata": {
      "needs_background": "light"
     },
     "output_type": "display_data"
    }
   ],
   "source": [
    "cores = np.array(['green', 'red', 'blue'])\n",
    "\n",
    "x = entradas_test[:,1]\n",
    "y = entradas_test[:,2]\n",
    "\n",
    "plt.scatter(x, y, color= cores[SaidasCalcTest]) "
   ]
  },
  {
   "cell_type": "code",
   "execution_count": null,
   "metadata": {},
   "outputs": [],
   "source": []
  }
 ],
 "metadata": {
  "kernelspec": {
   "display_name": "Python 3",
   "language": "python",
   "name": "python3"
  },
  "language_info": {
   "codemirror_mode": {
    "name": "ipython",
    "version": 3
   },
   "file_extension": ".py",
   "mimetype": "text/x-python",
   "name": "python",
   "nbconvert_exporter": "python",
   "pygments_lexer": "ipython3",
   "version": "3.6.7"
  }
 },
 "nbformat": 4,
 "nbformat_minor": 2
}
