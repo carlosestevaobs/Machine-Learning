{
 "cells": [
  {
   "cell_type": "markdown",
   "metadata": {},
   "source": [
    "# Multilayer Perceptron com Sklearn"
   ]
  },
  {
   "cell_type": "code",
   "execution_count": 1,
   "metadata": {},
   "outputs": [],
   "source": [
    "import numpy as np\n",
    "from sklearn import datasets\n",
    "from sklearn.neural_network import MLPClassifier"
   ]
  },
  {
   "cell_type": "markdown",
   "metadata": {},
   "source": [
    "Entradas e saídas"
   ]
  },
  {
   "cell_type": "code",
   "execution_count": 2,
   "metadata": {},
   "outputs": [],
   "source": [
    "base = datasets.load_breast_cancer()"
   ]
  },
  {
   "cell_type": "code",
   "execution_count": 3,
   "metadata": {},
   "outputs": [],
   "source": [
    "entradas = base.data"
   ]
  },
  {
   "cell_type": "code",
   "execution_count": 4,
   "metadata": {},
   "outputs": [],
   "source": [
    "saidas = base.target"
   ]
  },
  {
   "cell_type": "markdown",
   "metadata": {},
   "source": [
    "Criação da Rede Neural"
   ]
  },
  {
   "cell_type": "code",
   "execution_count": 5,
   "metadata": {
    "scrolled": true
   },
   "outputs": [
    {
     "name": "stdout",
     "output_type": "stream",
     "text": [
      "Iteration 1, loss = 14.44681204\n",
      "Iteration 2, loss = 14.44681198\n",
      "Iteration 3, loss = 14.38635186\n",
      "Iteration 4, loss = 12.31951706\n",
      "Iteration 5, loss = 4.47133527\n",
      "Iteration 6, loss = 8.33219007\n",
      "Iteration 7, loss = 8.04929243\n",
      "Iteration 8, loss = 1.99862165\n",
      "Iteration 9, loss = 3.99184800\n",
      "Iteration 10, loss = 4.49017518\n",
      "Iteration 11, loss = 1.50139037\n",
      "Iteration 12, loss = 0.81580373\n",
      "Iteration 13, loss = 1.64863974\n",
      "Iteration 14, loss = 0.85102721\n",
      "Iteration 15, loss = 0.39915853\n",
      "Iteration 16, loss = 0.79930610\n",
      "Iteration 17, loss = 0.58912311\n",
      "Iteration 18, loss = 0.38036514\n",
      "Iteration 19, loss = 0.48551251\n",
      "Iteration 20, loss = 0.48782814\n",
      "Iteration 21, loss = 0.39540287\n",
      "Iteration 22, loss = 0.38458576\n",
      "Iteration 23, loss = 0.40713042\n",
      "Iteration 24, loss = 0.37489293\n",
      "Iteration 25, loss = 0.36751192\n",
      "Iteration 26, loss = 0.36260216\n",
      "Iteration 27, loss = 0.35057250\n",
      "Iteration 28, loss = 0.35028008\n",
      "Iteration 29, loss = 0.34840229\n",
      "Iteration 30, loss = 0.33844780\n",
      "Iteration 31, loss = 0.33866384\n",
      "Iteration 32, loss = 0.33918315\n",
      "Iteration 33, loss = 0.33167898\n",
      "Iteration 34, loss = 0.32951868\n",
      "Iteration 35, loss = 0.33126814\n",
      "Iteration 36, loss = 0.32348079\n",
      "Iteration 37, loss = 0.32335018\n",
      "Iteration 38, loss = 0.31770173\n",
      "Iteration 39, loss = 0.31669752\n",
      "Iteration 40, loss = 0.31448040\n",
      "Iteration 41, loss = 0.31046094\n",
      "Iteration 42, loss = 0.30745833\n",
      "Iteration 43, loss = 0.30845385\n",
      "Iteration 44, loss = 0.30414436\n",
      "Iteration 45, loss = 0.30160820\n",
      "Iteration 46, loss = 0.29703970\n",
      "Iteration 47, loss = 0.29981661\n",
      "Iteration 48, loss = 0.29458018\n",
      "Iteration 49, loss = 0.29441689\n",
      "Iteration 50, loss = 0.28355739\n",
      "Iteration 51, loss = 0.28735101\n",
      "Iteration 52, loss = 0.28528315\n",
      "Iteration 53, loss = 0.27887683\n",
      "Iteration 54, loss = 0.27474662\n",
      "Iteration 55, loss = 0.27264832\n",
      "Iteration 56, loss = 0.26980784\n",
      "Iteration 57, loss = 0.26499270\n",
      "Iteration 58, loss = 0.26752184\n",
      "Iteration 59, loss = 0.26381964\n",
      "Iteration 60, loss = 0.26007131\n",
      "Iteration 61, loss = 0.26394068\n",
      "Iteration 62, loss = 0.25871362\n",
      "Iteration 63, loss = 0.25070361\n",
      "Iteration 64, loss = 0.24800631\n",
      "Iteration 65, loss = 0.24560587\n",
      "Iteration 66, loss = 0.24323735\n",
      "Iteration 67, loss = 0.24873748\n",
      "Iteration 68, loss = 0.23304236\n",
      "Iteration 69, loss = 0.23430678\n",
      "Iteration 70, loss = 0.23149988\n",
      "Iteration 71, loss = 0.23262922\n",
      "Iteration 72, loss = 0.22065344\n",
      "Iteration 73, loss = 0.22101631\n",
      "Iteration 74, loss = 0.21799677\n",
      "Iteration 75, loss = 0.21585641\n",
      "Iteration 76, loss = 0.21288921\n",
      "Iteration 77, loss = 0.20904975\n",
      "Iteration 78, loss = 0.20944572\n",
      "Iteration 79, loss = 0.20411620\n",
      "Iteration 80, loss = 0.20473404\n",
      "Iteration 81, loss = 0.19990737\n",
      "Iteration 82, loss = 0.20152562\n",
      "Iteration 83, loss = 0.19407153\n",
      "Iteration 84, loss = 0.19984897\n",
      "Iteration 85, loss = 0.19861469\n",
      "Iteration 86, loss = 0.19213366\n",
      "Iteration 87, loss = 0.19079306\n",
      "Iteration 88, loss = 0.18596974\n",
      "Iteration 89, loss = 0.19142793\n",
      "Iteration 90, loss = 0.19415980\n",
      "Iteration 91, loss = 0.18750779\n",
      "Iteration 92, loss = 0.18657773\n",
      "Iteration 93, loss = 0.18793989\n",
      "Iteration 94, loss = 0.18188385\n",
      "Iteration 95, loss = 0.18191515\n",
      "Iteration 96, loss = 0.18109083\n",
      "Iteration 97, loss = 0.17682845\n",
      "Iteration 98, loss = 0.17278252\n",
      "Iteration 99, loss = 0.17266324\n",
      "Iteration 100, loss = 0.17001086\n",
      "Iteration 101, loss = 0.17056858\n",
      "Iteration 102, loss = 0.17020291\n",
      "Iteration 103, loss = 0.17064828\n",
      "Iteration 104, loss = 0.16803624\n",
      "Iteration 105, loss = 0.16642977\n",
      "Iteration 106, loss = 0.16993534\n",
      "Iteration 107, loss = 0.16562835\n",
      "Iteration 108, loss = 0.16261509\n",
      "Iteration 109, loss = 0.16532394\n",
      "Iteration 110, loss = 0.16387334\n",
      "Iteration 111, loss = 0.16125136\n",
      "Iteration 112, loss = 0.16181499\n",
      "Iteration 113, loss = 0.16269334\n",
      "Iteration 114, loss = 0.16157014\n",
      "Iteration 115, loss = 0.15841301\n",
      "Iteration 116, loss = 0.16393528\n",
      "Iteration 117, loss = 0.16678926\n",
      "Iteration 118, loss = 0.16071999\n",
      "Iteration 119, loss = 0.15756682\n",
      "Iteration 120, loss = 0.16237231\n",
      "Iteration 121, loss = 0.15553410\n",
      "Iteration 122, loss = 0.15677479\n",
      "Iteration 123, loss = 0.15368030\n",
      "Iteration 124, loss = 0.15601233\n",
      "Iteration 125, loss = 0.15543416\n",
      "Iteration 126, loss = 0.15246478\n",
      "Iteration 127, loss = 0.15351098\n",
      "Iteration 128, loss = 0.15199851\n",
      "Iteration 129, loss = 0.15189598\n",
      "Iteration 130, loss = 0.15472512\n",
      "Iteration 131, loss = 0.15522498\n",
      "Iteration 132, loss = 0.15941811\n",
      "Iteration 133, loss = 0.15146994\n",
      "Iteration 134, loss = 0.15530553\n",
      "Iteration 135, loss = 0.16948011\n",
      "Iteration 136, loss = 0.17082606\n",
      "Iteration 137, loss = 0.15997554\n",
      "Iteration 138, loss = 0.15395797\n",
      "Iteration 139, loss = 0.15944465\n",
      "Iteration 140, loss = 0.15834235\n",
      "Iteration 141, loss = 0.15180550\n",
      "Iteration 142, loss = 0.15953757\n",
      "Iteration 143, loss = 0.15164256\n",
      "Iteration 144, loss = 0.14962942\n",
      "Iteration 145, loss = 0.14781186\n",
      "Iteration 146, loss = 0.14801296\n",
      "Iteration 147, loss = 0.15210676\n",
      "Iteration 148, loss = 0.14075865\n",
      "Iteration 149, loss = 0.14295638\n",
      "Iteration 150, loss = 0.14168113\n",
      "Iteration 151, loss = 0.14102482\n",
      "Iteration 152, loss = 0.14625500\n",
      "Iteration 153, loss = 0.15024847\n",
      "Iteration 154, loss = 0.13748354\n",
      "Iteration 155, loss = 0.14467210\n",
      "Iteration 156, loss = 0.14044034\n",
      "Iteration 157, loss = 0.13844229\n",
      "Iteration 158, loss = 0.14083285\n",
      "Iteration 159, loss = 0.15557448\n",
      "Iteration 160, loss = 0.15679319\n",
      "Iteration 161, loss = 0.14368009\n",
      "Iteration 162, loss = 0.14831223\n",
      "Iteration 163, loss = 0.14134521\n",
      "Iteration 164, loss = 0.14056383\n",
      "Iteration 165, loss = 0.13474054\n",
      "Iteration 166, loss = 0.13307627\n",
      "Iteration 167, loss = 0.13404470\n",
      "Iteration 168, loss = 0.14018854\n",
      "Iteration 169, loss = 0.13924140\n",
      "Iteration 170, loss = 0.13138440\n",
      "Iteration 171, loss = 0.13413629\n",
      "Iteration 172, loss = 0.13654665\n",
      "Iteration 173, loss = 0.13560586\n",
      "Iteration 174, loss = 0.13402224\n",
      "Iteration 175, loss = 0.12985783\n",
      "Iteration 176, loss = 0.13306923\n",
      "Iteration 177, loss = 0.13227815\n",
      "Iteration 178, loss = 0.13002180\n",
      "Iteration 179, loss = 0.13258577\n",
      "Iteration 180, loss = 0.12960586\n",
      "Iteration 181, loss = 0.12888455\n",
      "Iteration 182, loss = 0.13309212\n",
      "Iteration 183, loss = 0.13314550\n",
      "Iteration 184, loss = 0.12679717\n",
      "Iteration 185, loss = 0.13258143\n",
      "Iteration 186, loss = 0.13180205\n",
      "Iteration 187, loss = 0.12901345\n",
      "Iteration 188, loss = 0.12699841\n",
      "Iteration 189, loss = 0.12897518\n",
      "Iteration 190, loss = 0.12886355\n",
      "Iteration 191, loss = 0.12673017\n",
      "Iteration 192, loss = 0.12773147\n",
      "Iteration 193, loss = 0.12577444\n",
      "Iteration 194, loss = 0.13074515\n",
      "Iteration 195, loss = 0.13050363\n",
      "Iteration 196, loss = 0.12593224\n",
      "Iteration 197, loss = 0.12781540\n",
      "Iteration 198, loss = 0.12686752\n",
      "Iteration 199, loss = 0.12671937\n",
      "Iteration 200, loss = 0.12450631\n",
      "Iteration 201, loss = 0.12737781\n",
      "Iteration 202, loss = 0.12265589\n",
      "Iteration 203, loss = 0.12484544\n",
      "Iteration 204, loss = 0.12224268\n",
      "Iteration 205, loss = 0.12272260\n",
      "Iteration 206, loss = 0.12252779\n",
      "Iteration 207, loss = 0.12128695\n",
      "Iteration 208, loss = 0.12306705\n",
      "Iteration 209, loss = 0.12209650\n",
      "Iteration 210, loss = 0.12274857\n",
      "Iteration 211, loss = 0.12328956\n",
      "Iteration 212, loss = 0.12162040\n",
      "Iteration 213, loss = 0.12360762\n",
      "Iteration 214, loss = 0.13057807\n",
      "Iteration 215, loss = 0.12902253\n",
      "Iteration 216, loss = 0.12944171\n",
      "Iteration 217, loss = 0.12885648\n",
      "Iteration 218, loss = 0.12061876\n",
      "Iteration 219, loss = 0.11886006\n",
      "Iteration 220, loss = 0.12565169\n",
      "Iteration 221, loss = 0.12055688\n",
      "Iteration 222, loss = 0.12467680\n",
      "Iteration 223, loss = 0.12679601\n",
      "Iteration 224, loss = 0.12314122\n",
      "Iteration 225, loss = 0.11639627\n",
      "Iteration 226, loss = 0.12606483\n",
      "Iteration 227, loss = 0.12258666\n",
      "Iteration 228, loss = 0.11745586\n",
      "Iteration 229, loss = 0.11675532\n",
      "Iteration 230, loss = 0.11687180\n",
      "Iteration 231, loss = 0.11910464\n",
      "Iteration 232, loss = 0.12257445\n",
      "Iteration 233, loss = 0.11607954\n",
      "Iteration 234, loss = 0.11770317\n",
      "Iteration 235, loss = 0.12276321\n",
      "Iteration 236, loss = 0.11658239\n",
      "Iteration 237, loss = 0.11619270\n",
      "Iteration 238, loss = 0.11859258\n",
      "Iteration 239, loss = 0.11792216\n",
      "Iteration 240, loss = 0.11583988\n",
      "Iteration 241, loss = 0.12564742\n",
      "Iteration 242, loss = 0.12196513\n",
      "Iteration 243, loss = 0.11839548\n",
      "Iteration 244, loss = 0.12034067\n",
      "Iteration 245, loss = 0.12180564\n",
      "Iteration 246, loss = 0.11565026\n",
      "Iteration 247, loss = 0.11472568\n",
      "Iteration 248, loss = 0.12452418\n",
      "Iteration 249, loss = 0.13968133\n",
      "Iteration 250, loss = 0.13467863\n",
      "Iteration 251, loss = 0.14650756\n",
      "Iteration 252, loss = 0.14017979\n",
      "Iteration 253, loss = 0.13845513\n",
      "Iteration 254, loss = 0.13236092\n",
      "Iteration 255, loss = 0.11275546\n",
      "Iteration 256, loss = 0.12029472\n",
      "Iteration 257, loss = 0.11361878\n",
      "Iteration 258, loss = 0.11796075\n",
      "Iteration 259, loss = 0.11975245\n"
     ]
    },
    {
     "name": "stdout",
     "output_type": "stream",
     "text": [
      "Iteration 260, loss = 0.11722774\n",
      "Iteration 261, loss = 0.11180500\n",
      "Iteration 262, loss = 0.11707378\n",
      "Iteration 263, loss = 0.11060813\n",
      "Iteration 264, loss = 0.11371143\n",
      "Iteration 265, loss = 0.11517209\n",
      "Iteration 266, loss = 0.10920220\n",
      "Iteration 267, loss = 0.11040885\n",
      "Iteration 268, loss = 0.10869658\n",
      "Iteration 269, loss = 0.10853961\n",
      "Iteration 270, loss = 0.10900925\n",
      "Iteration 271, loss = 0.10873044\n",
      "Iteration 272, loss = 0.11240636\n",
      "Iteration 273, loss = 0.11257065\n",
      "Iteration 274, loss = 0.11522246\n",
      "Iteration 275, loss = 0.11325235\n",
      "Iteration 276, loss = 0.11256606\n",
      "Iteration 277, loss = 0.12013408\n",
      "Iteration 278, loss = 0.12940817\n",
      "Iteration 279, loss = 0.11023236\n",
      "Iteration 280, loss = 0.10841377\n",
      "Iteration 281, loss = 0.11358202\n",
      "Iteration 282, loss = 0.11289529\n",
      "Iteration 283, loss = 0.11165961\n",
      "Iteration 284, loss = 0.12257601\n",
      "Iteration 285, loss = 0.13071488\n",
      "Iteration 286, loss = 0.13127718\n",
      "Iteration 287, loss = 0.12233383\n",
      "Iteration 288, loss = 0.12602976\n",
      "Iteration 289, loss = 0.12341659\n",
      "Iteration 290, loss = 0.11263609\n",
      "Iteration 291, loss = 0.11281696\n",
      "Training loss did not improve more than tol=0.000100 for 10 consecutive epochs. Stopping.\n"
     ]
    },
    {
     "data": {
      "text/plain": [
       "MLPClassifier(activation='relu', alpha=0.0001, batch_size='auto', beta_1=0.9,\n",
       "       beta_2=0.999, early_stopping=False, epsilon=1e-08,\n",
       "       hidden_layer_sizes=(100,), learning_rate='constant',\n",
       "       learning_rate_init=0.001, max_iter=1000, momentum=0.9,\n",
       "       n_iter_no_change=10, nesterovs_momentum=True, power_t=0.5,\n",
       "       random_state=None, shuffle=True, solver='adam', tol=0.0001,\n",
       "       validation_fraction=0.1, verbose=True, warm_start=False)"
      ]
     },
     "execution_count": 5,
     "metadata": {},
     "output_type": "execute_result"
    }
   ],
   "source": [
    "rede = MLPClassifier(verbose=True, max_iter=1000, tol=0.0001, activation='relu')\n",
    "rede.fit(entradas, saidas)"
   ]
  },
  {
   "cell_type": "code",
   "execution_count": 6,
   "metadata": {},
   "outputs": [
    {
     "name": "stdout",
     "output_type": "stream",
     "text": [
      "[0 0 0 0 0 0 0 0 0 0 0 0 0 1 1 0 0 0 0 1 1 1 0 0 0 0 0 0 0 0 0 0 0 0 0 0 1\n",
      " 1 0 1 1 1 0 0 1 0 1 0 1 1 1 1 1 0 0 1 0 0 1 1 1 1 0 1 0 0 1 1 1 1 0 1 0 1\n",
      " 1 0 1 0 0 1 1 1 0 0 1 0 1 0 1 1 1 1 0 1 0 0 1 1 1 1 0 1 1 1 1 0 1 1 0 1 1\n",
      " 1 1 1 1 1 1 0 0 0 1 0 0 1 1 1 0 0 1 0 1 0 0 1 0 1 1 1 0 1 1 0 1 1 1 1 1 1\n",
      " 1 1 1 1 1 1 1 1 0 1 1 1 1 0 0 1 0 1 1 0 0 1 1 0 0 1 1 1 1 1 1 1 0 0 0 1 0\n",
      " 1 0 1 1 1 1 1 1 0 1 1 0 0 0 0 1 0 0 0 1 0 1 0 1 1 0 1 0 0 1 1 1 1 0 0 1 1\n",
      " 1 0 1 1 1 1 1 0 0 1 1 0 1 1 0 0 1 0 1 1 1 1 0 1 1 1 1 1 0 1 0 0 0 1 0 1 0\n",
      " 0 0 0 0 0 0 0 1 1 1 1 1 1 0 1 0 1 1 0 1 1 0 1 0 1 1 1 1 1 1 1 1 1 1 1 1 1\n",
      " 1 1 1 1 0 1 0 1 1 1 1 1 1 1 1 1 1 1 1 1 1 0 1 1 1 0 1 0 1 1 1 1 0 1 0 1 1\n",
      " 1 1 0 1 0 1 0 1 1 1 0 1 1 1 1 1 1 1 1 0 0 1 1 1 1 1 1 1 1 1 1 1 0 0 1 0 0\n",
      " 0 1 0 0 1 1 1 1 1 0 1 1 1 1 1 1 1 1 1 0 1 1 0 0 1 1 1 1 1 1 0 1 1 1 1 1 1\n",
      " 1 0 1 1 1 1 1 0 1 1 0 1 1 1 1 1 1 1 1 1 1 1 1 1 1 0 0 1 0 1 1 1 1 1 0 1 1\n",
      " 0 1 0 1 1 0 1 0 1 1 1 1 1 1 1 1 0 0 1 1 1 1 1 1 0 1 1 1 1 1 1 1 1 1 1 1 1\n",
      " 1 1 1 1 1 1 0 1 1 1 1 0 1 1 1 1 1 0 0 1 1 1 0 1 1 1 1 1 1 1 1 0 1 0 1 0 0\n",
      " 1 1 1 0 1 1 1 1 1 1 1 1 1 1 1 0 1 0 1 1 1 1 1 1 1 1 1 1 1 1 1 1 1 1 1 1 1\n",
      " 1 1 1 1 1 1 1 0 0 0 0 0 0 1]\n"
     ]
    }
   ],
   "source": [
    "predicoes = rede.predict(entradas)\n",
    "print(predicoes)"
   ]
  },
  {
   "cell_type": "markdown",
   "metadata": {},
   "source": [
    "# Predição da Rede Neural"
   ]
  },
  {
   "cell_type": "markdown",
   "metadata": {},
   "source": [
    "\n",
    "\n"
   ]
  },
  {
   "cell_type": "code",
   "execution_count": 7,
   "metadata": {
    "scrolled": true
   },
   "outputs": [
    {
     "data": {
      "text/plain": [
       "array([0])"
      ]
     },
     "execution_count": 7,
     "metadata": {},
     "output_type": "execute_result"
    }
   ],
   "source": [
    "rede.predict([[25.80, 28.34, 118, 900, 0.10, 0.26, 0.08, 0.134, 0.178,\n",
    "                  0.20, 0.05, 1098, 0.87, 4500, 145.2, 0.005, 0.04, 0.05, 0.015,\n",
    "                  0.03, 0.007, 23.15, 16.64, 178.5, 2018, 0.14, 0.185,\n",
    "                  0.84, 158, 1.36]])"
   ]
  },
  {
   "cell_type": "markdown",
   "metadata": {},
   "source": [
    "# Matriz de Confusão"
   ]
  },
  {
   "cell_type": "code",
   "execution_count": 8,
   "metadata": {},
   "outputs": [],
   "source": [
    "from sklearn.metrics import confusion_matrix\n",
    "import matplotlib.pyplot as plt\n",
    "import itertools"
   ]
  },
  {
   "cell_type": "code",
   "execution_count": 9,
   "metadata": {},
   "outputs": [],
   "source": [
    "from sklearn.metrics import confusion_matrix\n",
    "import matplotlib.pyplot as plt\n",
    "import itertools\n",
    "\n",
    "def plot_confusion_matrix(cm, classes,\n",
    "                          normalize=False,\n",
    "                          title='Matriz de Confusão',\n",
    "                          cmap=plt.cm.Blues):   \n",
    "\n",
    "    plt.imshow(cm, interpolation='nearest', cmap=cmap)\n",
    "    plt.title(title)\n",
    "    plt.colorbar()\n",
    "    tick_marks = np.arange(len(classes))\n",
    "    plt.xticks(tick_marks, classes, rotation=45)\n",
    "    plt.yticks(tick_marks, classes)\n",
    "\n",
    "    fmt = '.2f' if normalize else 'd'\n",
    "    thresh = cm.max() / 2.\n",
    "    for i, j in itertools.product(range(cm.shape[0]), range(cm.shape[1])):\n",
    "        plt.text(j, i, format(cm[i, j], fmt),\n",
    "                 horizontalalignment=\"center\",\n",
    "                 color=\"white\" if cm[i, j] > thresh else \"black\")\n",
    "\n",
    "    plt.tight_layout()\n",
    "    plt.ylabel('Saída correta')\n",
    "    plt.xlabel('Saída encontrada')    "
   ]
  },
  {
   "cell_type": "code",
   "execution_count": 10,
   "metadata": {},
   "outputs": [
    {
     "data": {
      "image/png": "[encoded data removed]",
      "text/plain": [
       "<Figure size 432x288 with 2 Axes>"
      ]
     },
     "metadata": {
      "needs_background": "light"
     },
     "output_type": "display_data"
    }
   ],
   "source": [
    "cm = confusion_matrix(saidas, predicoes)\n",
    "plot_confusion_matrix(cm, \n",
    "                      classes=['maligno', 'benigno'],\n",
    "                      title='Matriz de Confusão')"
   ]
  }
 ],
 "metadata": {
  "kernelspec": {
   "display_name": "Python 3",
   "language": "python",
   "name": "python3"
  },
  "language_info": {
   "codemirror_mode": {
    "name": "ipython",
    "version": 3
   },
   "file_extension": ".py",
   "mimetype": "text/x-python",
   "name": "python",
   "nbconvert_exporter": "python",
   "pygments_lexer": "ipython3",
   "version": "3.6.7"
  }
 },
 "nbformat": 4,
 "nbformat_minor": 2
}
